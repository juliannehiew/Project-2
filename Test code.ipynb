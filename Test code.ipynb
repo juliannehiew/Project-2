{
 "cells": [
  {
   "cell_type": "code",
   "execution_count": null,
   "id": "24717af6",
   "metadata": {},
   "outputs": [],
   "source": [
    "lanterns = [1,3,3,4,5,1,1,1,1,1,1,2,1,4,1,1,1,5,2,2,4,3,1,1,2,5,4,2,2,3,1,2,3,2,1,1,4,4,2,4,4,1,2,4,3,3,3,1,1,3,4,5,2,5,1,2,5,1,1,1,3,2,3,3,1,4,1,1,4,1,4,1,1,1,1,5,4,2,1,2,2,5,5,1,1,1,1,2,1,1,1,1,3,2,3,1,4,3,1,1,3,1,1,1,1,3,3,4,5,1,1,5,4,4,4,4,2,5,1,1,2,5,1,3,4,4,1,4,1,5,5,2,4,5,1,1,3,1,3,1,4,1,3,1,2,2,1,5,1,5,1,3,1,3,1,4,1,4,5,1,4,5,1,1,5,2,2,4,5,1,3,2,4,2,1,1,1,2,1,2,1,3,4,4,2,2,4,2,1,4,1,3,1,3,5,3,1,1,2,2,1,5,2,1,1,1,1,1,5,4,3,5,3,3,1,5,5,4,4,2,1,1,1,2,5,3,3,2,1,1,1,5,5,3,1,4,4,2,4,2,1,1,1,5,1,2,4,1,3,4,4,2,1,4,2,1,3,4,3,3,2,3,1,5,3,1,1,5,1,2,2,4,4,1,2,3,1,2,1,1,2,1,1,1,2,3,5,5,1,2,3,1,3,5,4,2,1,3,3,4]\n",
    "\n",
    "days = 0\n",
    "for lantern in lanterns:\n",
    "    while days < 80:\n",
    "        if 0 in lanterns:\n",
    "            indices = []\n",
    "            for i in range(len(lanterns)):\n",
    "                if lanterns[i] == 0:\n",
    "                    indices.append(i)\n",
    "            lanterns = list(map(lambda lantern : lantern -1, lanterns))\n",
    "            for index in indices:\n",
    "                lanterns[index] = 6\n",
    "                lanterns.append(8)\n",
    "                    \n",
    "        else:\n",
    "            lanterns = list(map(lambda lantern : lantern -1, lanterns))\n",
    "        days +=1\n",
    "        print (days)\n",
    "    \n",
    "print (len(lanterns))    \n",
    "\n",
    "                \n",
    "     "
   ]
  }
 ],
 "metadata": {
  "kernelspec": {
   "display_name": "Python 3",
   "language": "python",
   "name": "python3"
  },
  "language_info": {
   "codemirror_mode": {
    "name": "ipython",
    "version": 3
   },
   "file_extension": ".py",
   "mimetype": "text/x-python",
   "name": "python",
   "nbconvert_exporter": "python",
   "pygments_lexer": "ipython3",
   "version": "3.7.10"
  }
 },
 "nbformat": 4,
 "nbformat_minor": 5
}
