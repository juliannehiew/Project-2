{
 "cells": [
  {
   "cell_type": "code",
   "execution_count": null,
   "id": "271558f4",
   "metadata": {},
   "outputs": [],
   "source": [
    "lanterns = [1,3,3,4,5,1,1,1,1,1,1,2,1,4,1,1,1,5,2,2,4,3,1,1,2,5,4,2,2,3,1,2,3,2,1,1,4,4,2,4,4,1,2,4,3,3,3,1,1,3,4,5,2,5,1,2,5,1,1,1,3,2,3,3,1,4,1,1,4,1,4,1,1,1,1,5,4,2,1,2,2,5,5,1,1,1,1,2,1,1,1,1,3,2,3,1,4,3,1,1,3,1,1,1,1,3,3,4,5,1,1,5,4,4,4,4,2,5,1,1,2,5,1,3,4,4,1,4,1,5,5,2,4,5,1,1,3,1,3,1,4,1,3,1,2,2,1,5,1,5,1,3,1,3,1,4,1,4,5,1,4,5,1,1,5,2,2,4,5,1,3,2,4,2,1,1,1,2,1,2,1,3,4,4,2,2,4,2,1,4,1,3,1,3,5,3,1,1,2,2,1,5,2,1,1,1,1,1,5,4,3,5,3,3,1,5,5,4,4,2,1,1,1,2,5,3,3,2,1,1,1,5,5,3,1,4,4,2,4,2,1,1,1,5,1,2,4,1,3,4,4,2,1,4,2,1,3,4,3,3,2,3,1,5,3,1,1,5,1,2,2,4,4,1,2,3,1,2,1,1,2,1,1,1,2,3,5,5,1,2,3,1,3,5,4,2,1,3,3,4]\n",
    "\n",
    "days = 0\n",
    "for lantern in lanterns:\n",
    "    while days < 80:\n",
    "        if 0 in lanterns:\n",
    "            indices = []\n",
    "            for i in range(len(lanterns)):\n",
    "                if lanterns[i] == 0:\n",
    "                    indices.append(i)\n",
    "            lanterns = list(map(lambda lantern : lantern -1, lanterns))\n",
    "            for index in indices:\n",
    "                lanterns[index] = 6\n",
    "                lanterns.append(8)\n",
    "                    \n",
    "        else:\n",
    "            lanterns = list(map(lambda lantern : lantern -1, lanterns))\n",
    "        days +=1\n",
    "        print (days)\n",
    "    \n",
    "print (len(lanterns))    \n",
    "\n",
    "                \n",
    "     "
   ]
  },
  {
   "cell_type": "code",
   "execution_count": null,
   "id": "0db13806",
   "metadata": {},
   "outputs": [],
   "source": [
    "# Value Tracking Method\n",
    "lanterns = [1,3,3,4,5,1,1,1,1,1,1,2,1,4,1,1,1,5,2,2,4,3,1,1,2,5,4,2,2,3,1,2,3,2,1,1,4,4,2,4,4,1,2,4,3,3,3,1,1,3,4,5,2,5,1,2,5,1,1,1,3,2,3,3,1,4,1,1,4,1,4,1,1,1,1,5,4,2,1,2,2,5,5,1,1,1,1,2,1,1,1,1,3,2,3,1,4,3,1,1,3,1,1,1,1,3,3,4,5,1,1,5,4,4,4,4,2,5,1,1,2,5,1,3,4,4,1,4,1,5,5,2,4,5,1,1,3,1,3,1,4,1,3,1,2,2,1,5,1,5,1,3,1,3,1,4,1,4,5,1,4,5,1,1,5,2,2,4,5,1,3,2,4,2,1,1,1,2,1,2,1,3,4,4,2,2,4,2,1,4,1,3,1,3,5,3,1,1,2,2,1,5,2,1,1,1,1,1,5,4,3,5,3,3,1,5,5,4,4,2,1,1,1,2,5,3,3,2,1,1,1,5,5,3,1,4,4,2,4,2,1,1,1,5,1,2,4,1,3,4,4,2,1,4,2,1,3,4,3,3,2,3,1,5,3,1,1,5,1,2,2,4,4,1,2,3,1,2,1,1,2,1,1,1,2,3,5,5,1,2,3,1,3,5,4,2,1,3,3,4]\n",
    "count_0 = lanterns.count(0)\n",
    "count_1 = lanterns.count(1)\n",
    "count_2 = lanterns.count(2)\n",
    "count_3 = lanterns.count(3)\n",
    "count_4 = lanterns.count(4)\n",
    "count_5 = lanterns.count(5)\n",
    "count_6 = lanterns.count(6)\n",
    "count_7 = lanterns.count(7)\n",
    "count_8 = lanterns.count(8)\n",
    "for x in range (0,256):\n",
    "    #subtract 1 from each \n",
    "    temp = count_0\n",
    "    count_0 = count_1\n",
    "    count_1 = count_2\n",
    "    count_2 = count_3\n",
    "    count_3 = count_4\n",
    "    count_4 = count_5\n",
    "    count_5 = count_6\n",
    "    count_6 = count_7\n",
    "    count_7 = count_8\n",
    "    count_8 = temp\n",
    "    count_6 += temp\n",
    "    print (x)\n",
    "print (count_0 + count_1 + count_2 + count_3 + count_4 + count_5 + count_6 + count_7 + count_8)        \n",
    "    \n",
    "\n",
    "        "
   ]
  }
 ],
 "metadata": {
  "kernelspec": {
   "display_name": "Python 3",
   "language": "python",
   "name": "python3"
  },
  "language_info": {
   "codemirror_mode": {
    "name": "ipython",
    "version": 3
   },
   "file_extension": ".py",
   "mimetype": "text/x-python",
   "name": "python",
   "nbconvert_exporter": "python",
   "pygments_lexer": "ipython3",
   "version": "3.7.10"
  }
 },
 "nbformat": 4,
 "nbformat_minor": 5
}
