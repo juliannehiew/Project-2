{
 "cells": [
  {
   "cell_type": "code",
   "execution_count": 1,
   "id": "7d3f4f85",
   "metadata": {},
   "outputs": [],
   "source": [
    "#Importing Dependancies\n",
    "import pandas as pd\n",
    "import altair as alt\n",
    "%matplotlib inline\n",
    "import random\n",
    "from pathlib import Path\n",
    "import matplotlib.pyplot as plt\n",
    "from sklearn.linear_model import LinearRegression\n",
    "import numpy as np\n",
    "from tensorflow.keras.models import Sequential\n",
    "from tensorflow.keras.layers import LSTM, Dense, Dropout\n",
    "from sklearn.preprocessing import MinMaxScaler\n",
    "from sklearn.model_selection import train_test_split\n",
    "from sklearn.naive_bayes import GaussianNB"
   ]
  },
  {
   "cell_type": "markdown",
   "id": "736f9085",
   "metadata": {},
   "source": [
    "#### Algorithmic Solution, very slow, uses ~200GB RAM at day 255"
   ]
  },
  {
   "cell_type": "code",
   "execution_count": 2,
   "id": "1927a34c",
   "metadata": {},
   "outputs": [
    {
     "name": "stdout",
     "output_type": "stream",
     "text": [
      "1\n",
      "2\n",
      "3\n",
      "4\n",
      "5\n",
      "6\n",
      "7\n",
      "8\n",
      "9\n",
      "10\n",
      "767\n"
     ]
    }
   ],
   "source": [
    "#Algorithmic Solution\n",
    "lanterns= [1,3,3,4,5,1,1,1,1,1,1,2,1,4,1,1,1,5,2,2,4,3,1,1,2,5,4,2,2,3,1,2,3,2,1,1,4,4,2,4,4,1,2,4,3,3,3,1,1,3,4,5,2,5,1,2,5,1,1,1,3,2,3,3,1,4,1,1,4,1,4,1,1,1,1,5,4,2,1,2,2,5,5,1,1,1,1,2,1,1,1,1,3,2,3,1,4,3,1,1,3,1,1,1,1,3,3,4,5,1,1,5,4,4,4,4,2,5,1,1,2,5,1,3,4,4,1,4,1,5,5,2,4,5,1,1,3,1,3,1,4,1,3,1,2,2,1,5,1,5,1,3,1,3,1,4,1,4,5,1,4,5,1,1,5,2,2,4,5,1,3,2,4,2,1,1,1,2,1,2,1,3,4,4,2,2,4,2,1,4,1,3,1,3,5,3,1,1,2,2,1,5,2,1,1,1,1,1,5,4,3,5,3,3,1,5,5,4,4,2,1,1,1,2,5,3,3,2,1,1,1,5,5,3,1,4,4,2,4,2,1,1,1,5,1,2,4,1,3,4,4,2,1,4,2,1,3,4,3,3,2,3,1,5,3,1,1,5,1,2,2,4,4,1,2,3,1,2,1,1,2,1,1,1,2,3,5,5,1,2,3,1,3,5,4,2,1,3,3,4]\n",
    "days = 0\n",
    "list_days = []\n",
    "for lantern in lanterns:\n",
    "    while days < 10:\n",
    "        #input days you want here max 150\n",
    "        if 0 in lanterns:\n",
    "            indices = []\n",
    "            for i in range(len(lanterns)):\n",
    "                if lanterns[i] == 0:\n",
    "                    indices.append(i)\n",
    "            lanterns = list(map(lambda lantern : lantern -1, lanterns))\n",
    "            for index in indices:\n",
    "                lanterns[index] = 6\n",
    "                lanterns.append(8)\n",
    "                    \n",
    "        else:\n",
    "            lanterns = list(map(lambda lantern : lantern -1, lanterns))\n",
    "        list_days.append(len(lanterns))\n",
    "        days +=1\n",
    "        print (days)\n",
    "    \n",
    "print (len(lanterns))    \n",
    "\n",
    "                \n",
    "     "
   ]
  },
  {
   "cell_type": "markdown",
   "id": "2eeab9eb",
   "metadata": {},
   "source": [
    "#### Loop Unravelled Value Tracking Method, tracks values rather than the whole list at a time"
   ]
  },
  {
   "cell_type": "code",
   "execution_count": 3,
   "id": "544c449f",
   "metadata": {},
   "outputs": [
    {
     "name": "stdout",
     "output_type": "stream",
     "text": [
      "0\n",
      "1\n",
      "2\n",
      "3\n",
      "4\n",
      "5\n",
      "6\n",
      "7\n",
      "8\n",
      "9\n",
      "767\n"
     ]
    }
   ],
   "source": [
    "# Value Tracking Method\n",
    "lanterns = [1,3,3,4,5,1,1,1,1,1,1,2,1,4,1,1,1,5,2,2,4,3,1,1,2,5,4,2,2,3,1,2,3,2,1,1,4,4,2,4,4,1,2,4,3,3,3,1,1,3,4,5,2,5,1,2,5,1,1,1,3,2,3,3,1,4,1,1,4,1,4,1,1,1,1,5,4,2,1,2,2,5,5,1,1,1,1,2,1,1,1,1,3,2,3,1,4,3,1,1,3,1,1,1,1,3,3,4,5,1,1,5,4,4,4,4,2,5,1,1,2,5,1,3,4,4,1,4,1,5,5,2,4,5,1,1,3,1,3,1,4,1,3,1,2,2,1,5,1,5,1,3,1,3,1,4,1,4,5,1,4,5,1,1,5,2,2,4,5,1,3,2,4,2,1,1,1,2,1,2,1,3,4,4,2,2,4,2,1,4,1,3,1,3,5,3,1,1,2,2,1,5,2,1,1,1,1,1,5,4,3,5,3,3,1,5,5,4,4,2,1,1,1,2,5,3,3,2,1,1,1,5,5,3,1,4,4,2,4,2,1,1,1,5,1,2,4,1,3,4,4,2,1,4,2,1,3,4,3,3,2,3,1,5,3,1,1,5,1,2,2,4,4,1,2,3,1,2,1,1,2,1,1,1,2,3,5,5,1,2,3,1,3,5,4,2,1,3,3,4]\n",
    "count_0 = lanterns.count(0)\n",
    "count_1 = lanterns.count(1)\n",
    "count_2 = lanterns.count(2)\n",
    "count_3 = lanterns.count(3)\n",
    "count_4 = lanterns.count(4)\n",
    "count_5 = lanterns.count(5)\n",
    "count_6 = lanterns.count(6)\n",
    "count_7 = lanterns.count(7)\n",
    "count_8 = lanterns.count(8)\n",
    "for x in range (0,10):\n",
    "    #subtract 1 from each \n",
    "    temp = count_0\n",
    "    count_0 = count_1\n",
    "    count_1 = count_2\n",
    "    count_2 = count_3\n",
    "    count_3 = count_4\n",
    "    count_4 = count_5\n",
    "    count_5 = count_6\n",
    "    count_6 = count_7\n",
    "    count_7 = count_8\n",
    "    count_8 = temp\n",
    "    count_6 += temp\n",
    "    print (x)\n",
    "print (count_0 + count_1 + count_2 + count_3 + count_4 + count_5 + count_6 + count_7 + count_8)        \n",
    "    \n",
    "\n",
    "        "
   ]
  },
  {
   "cell_type": "markdown",
   "id": "20f2d1b2",
   "metadata": {},
   "source": [
    "#### Project Generation\n"
   ]
  },
  {
   "cell_type": "code",
   "execution_count": 4,
   "id": "bf280cc0",
   "metadata": {},
   "outputs": [
    {
     "name": "stdin",
     "output_type": "stream",
     "text": [
      "Please enter the number of elements you would like to simulate 900\n"
     ]
    },
    {
     "name": "stdout",
     "output_type": "stream",
     "text": [
      "your values are [5, 3, 3, 5, 0, 4, 2, 3, 2, 1, 0, 3, 0, 0, 3, 4, 6, 3, 3, 6, 1, 1, 5, 2, 1, 0, 3, 1, 4, 1, 5, 1, 3, 2, 2, 5, 2, 0, 2, 4, 0, 0, 1, 4, 4, 1, 3, 6, 3, 4, 5, 0, 1, 0, 6, 4, 2, 3, 5, 3, 0, 5, 3, 1, 0, 1, 4, 2, 3, 0, 3, 5, 4, 3, 0, 1, 4, 6, 3, 4, 2, 2, 6, 6, 5, 4, 2, 2, 1, 0, 0, 3, 2, 3, 6, 5, 4, 6, 2, 0, 2, 6, 4, 5, 4, 6, 5, 2, 6, 2, 5, 3, 4, 4, 4, 4, 5, 1, 1, 4, 5, 3, 3, 2, 0, 1, 4, 2, 0, 0, 3, 6, 3, 5, 3, 4, 1, 2, 1, 3, 5, 1, 5, 0, 0, 2, 0, 5, 4, 5, 3, 2, 0, 3, 0, 0, 6, 6, 5, 6, 2, 5, 4, 3, 1, 0, 0, 0, 3, 2, 4, 5, 0, 3, 5, 0, 0, 6, 0, 5, 2, 6, 3, 1, 3, 6, 3, 5, 6, 0, 1, 5, 6, 0, 5, 6, 0, 2, 3, 0, 6, 1, 0, 5, 6, 3, 4, 6, 1, 3, 6, 1, 0, 4, 1, 0, 3, 1, 5, 4, 5, 4, 3, 0, 1, 3, 6, 2, 1, 4, 1, 3, 6, 5, 5, 0, 6, 4, 4, 6, 3, 5, 5, 0, 0, 6, 6, 1, 4, 4, 5, 6, 5, 6, 1, 4, 4, 5, 4, 0, 0, 1, 6, 3, 6, 1, 1, 3, 3, 3, 5, 0, 1, 5, 1, 0, 6, 1, 6, 4, 4, 2, 0, 4, 4, 2, 0, 0, 3, 3, 1, 6, 6, 2, 5, 3, 2, 0, 0, 4, 1, 5, 2, 0, 3, 2, 5, 5, 0, 0, 3, 3, 3, 5, 4, 6, 1, 3, 5, 5, 4, 0, 5, 6, 3, 6, 2, 1, 0, 1, 6, 1, 0, 3, 3, 5, 5, 2, 5, 4, 3, 6, 1, 3, 3, 4, 6, 2, 4, 5, 0, 0, 1, 0, 1, 1, 0, 6, 2, 4, 0, 4, 5, 3, 5, 2, 0, 2, 3, 6, 5, 0, 6, 3, 3, 2, 0, 0, 2, 0, 4, 0, 2, 2, 3, 6, 2, 2, 3, 2, 5, 3, 5, 1, 4, 0, 1, 3, 0, 5, 2, 1, 3, 2, 5, 3, 1, 4, 6, 1, 4, 0, 1, 4, 3, 5, 5, 2, 2, 0, 6, 1, 6, 5, 6, 0, 4, 3, 5, 1, 6, 6, 1, 6, 5, 2, 4, 2, 2, 2, 1, 5, 3, 3, 2, 0, 2, 1, 1, 4, 2, 2, 1, 1, 1, 4, 4, 3, 2, 1, 2, 2, 0, 0, 0, 4, 2, 0, 1, 6, 1, 4, 3, 1, 1, 6, 5, 0, 2, 0, 2, 5, 1, 5, 3, 3, 3, 2, 5, 0, 4, 6, 1, 6, 3, 3, 1, 6, 3, 3, 3, 5, 2, 0, 1, 1, 1, 3, 1, 2, 0, 5, 5, 0, 4, 3, 3, 1, 2, 6, 0, 2, 6, 5, 5, 2, 6, 6, 4, 2, 3, 3, 5, 3, 2, 2, 5, 1, 4, 2, 6, 4, 4, 6, 2, 3, 6, 3, 6, 0, 2, 2, 5, 0, 4, 6, 0, 1, 2, 1, 4, 4, 0, 5, 2, 6, 0, 2, 3, 6, 1, 0, 6, 2, 5, 2, 4, 2, 5, 3, 3, 5, 4, 2, 3, 3, 3, 1, 3, 1, 2, 1, 4, 6, 5, 0, 5, 0, 3, 0, 1, 0, 3, 1, 0, 6, 2, 4, 5, 2, 6, 3, 2, 1, 6, 3, 0, 6, 1, 3, 1, 2, 1, 5, 4, 6, 6, 2, 4, 4, 5, 3, 1, 4, 6, 0, 5, 2, 6, 4, 3, 5, 2, 3, 6, 4, 2, 6, 0, 6, 1, 6, 3, 0, 4, 2, 4, 2, 3, 0, 4, 2, 4, 3, 1, 0, 4, 3, 1, 4, 4, 1, 1, 5, 3, 2, 5, 3, 4, 6, 1, 6, 0, 0, 6, 3, 0, 3, 3, 3, 0, 5, 1, 6, 3, 3, 0, 6, 0, 0, 0, 4, 2, 6, 5, 1, 5, 4, 2, 2, 2, 6, 0, 0, 5, 6, 5, 2, 3, 4, 4, 2, 0, 4, 6, 6, 0, 3, 5, 4, 4, 6, 0, 6, 6, 0, 1, 2, 1, 3, 6, 6, 4, 0, 0, 6, 3, 0, 2, 2, 4, 2, 0, 4, 2, 0, 4, 0, 1, 4, 2, 1, 6, 5, 6, 5, 6, 4, 2, 3, 0, 4, 5, 0, 4, 2, 6, 2, 0, 5, 6, 3, 2, 5, 2, 3, 5, 6, 5, 0, 5, 1, 0, 4, 4, 6, 1, 1, 0, 3, 0, 2, 3, 1, 1, 2, 3, 1, 4, 4, 2, 3, 6, 1, 2, 4, 1, 0, 2, 4, 2, 4, 1, 4, 6, 1, 3, 0, 6, 0, 6, 2, 2, 6, 6, 5, 4, 0, 0, 4, 3, 5, 4, 4, 5, 5, 6, 2, 1, 0, 1, 6, 4, 3, 5, 3, 4, 0, 5, 2, 6, 5, 6, 4, 0, 2, 6, 2, 6, 6, 3, 0, 0, 0, 0, 1, 3, 4, 4, 5, 5, 0, 6, 2, 4, 3, 3, 1, 5, 1, 5, 0, 5, 1, 5, 2, 1, 3, 2, 6] with 900 elements\n"
     ]
    },
    {
     "name": "stdin",
     "output_type": "stream",
     "text": [
      "Please enter the number of days you would like to simulate 120\n"
     ]
    },
    {
     "name": "stdout",
     "output_type": "stream",
     "text": [
      "generating solution for 900 fish in 120 days\n"
     ]
    }
   ],
   "source": [
    "input_elements = input (\"Please enter the number of elements you would like to simulate\")\n",
    "random_list = []\n",
    "x = int(input_elements)\n",
    "for i in range (0,x):\n",
    "    num = random.randint(0,6)\n",
    "    random_list.append(num)\n",
    "lanterns = random_list\n",
    "print (f\"your values are {random_list} with {len(lanterns)} elements\")\n",
    "input_days = input (\"Please enter the number of days you would like to simulate\")\n",
    "day_input = int(input_days)\n",
    "print (f\"generating solution for {len(lanterns)} fish in {day_input} days\")\n",
    "        \n"
   ]
  },
  {
   "cell_type": "code",
   "execution_count": 5,
   "id": "251f07e3",
   "metadata": {},
   "outputs": [
    {
     "data": {
      "text/plain": [
       "'\\ninput_days = input (\"Please enter the number of days you would like to simulate\")\\nday_input = int(input_days)\\nprint (f\"generating solution for {len(lanterns)} fish in {day_input} days\")\\ndays = 0\\nlist_days = []\\nfor lantern in lanterns:\\n    while days < day_input:\\n        if 0 in lanterns:\\n            indices = []\\n            for i in range(len(lanterns)):\\n                if lanterns[i] == 0:\\n                    indices.append(i)\\n            lanterns = list(map(lambda lantern : lantern -1, lanterns))\\n            for index in indices:\\n                    lanterns[index] = 6\\n                    lanterns.append(8)\\n        else:\\n            lanterns = list(map(lambda lantern : lantern -1, lanterns))\\n        list_days.append(len(lanterns))\\n        days += 1\\n        print (f\"calculating day {days}\")\\nprint (f\"the total amount of fish on day {day_input} is {len(lanterns)}\")\\nday_list = []\\nfor x in range(1,day_input):\\n    day_list.append(x)\\n    df_algo = pd.DataFrame(list_days)\\n    df_algo[\"Values\"] = list_days\\n    df_algo.reset_index(inplace = True)\\n    df_algo.drop(df_algo.columns[1], axis = 1, inplace = True)\\n    df_algo.set_index(\"index\", inplace = True)\\ndf_algo.head()\\n'"
      ]
     },
     "execution_count": 5,
     "metadata": {},
     "output_type": "execute_result"
    }
   ],
   "source": [
    "#returns panda generated by algo, used for solutions with less than 100 days\n",
    "\"\"\"\n",
    "input_days = input (\"Please enter the number of days you would like to simulate\")\n",
    "day_input = int(input_days)\n",
    "print (f\"generating solution for {len(lanterns)} fish in {day_input} days\")\n",
    "days = 0\n",
    "list_days = []\n",
    "for lantern in lanterns:\n",
    "    while days < day_input:\n",
    "        if 0 in lanterns:\n",
    "            indices = []\n",
    "            for i in range(len(lanterns)):\n",
    "                if lanterns[i] == 0:\n",
    "                    indices.append(i)\n",
    "            lanterns = list(map(lambda lantern : lantern -1, lanterns))\n",
    "            for index in indices:\n",
    "                    lanterns[index] = 6\n",
    "                    lanterns.append(8)\n",
    "        else:\n",
    "            lanterns = list(map(lambda lantern : lantern -1, lanterns))\n",
    "        list_days.append(len(lanterns))\n",
    "        days += 1\n",
    "        print (f\"calculating day {days}\")\n",
    "print (f\"the total amount of fish on day {day_input} is {len(lanterns)}\")\n",
    "day_list = []\n",
    "for x in range(1,day_input):\n",
    "    day_list.append(x)\n",
    "    df_algo = pd.DataFrame(list_days)\n",
    "    df_algo[\"Values\"] = list_days\n",
    "    df_algo.reset_index(inplace = True)\n",
    "    df_algo.drop(df_algo.columns[1], axis = 1, inplace = True)\n",
    "    df_algo.set_index(\"index\", inplace = True)\n",
    "df_algo.head()\n",
    "\"\"\"                 \n",
    "            \n",
    "                    \n",
    "        \n",
    "\n",
    "    \n",
    "    "
   ]
  },
  {
   "cell_type": "code",
   "execution_count": 6,
   "id": "f6691b25",
   "metadata": {},
   "outputs": [
    {
     "name": "stdout",
     "output_type": "stream",
     "text": [
      "generating solution for 900 fish in 120 days\n",
      "the total amount of fish on day 120 is 34178762\n"
     ]
    },
    {
     "data": {
      "text/html": [
       "<div>\n",
       "<style scoped>\n",
       "    .dataframe tbody tr th:only-of-type {\n",
       "        vertical-align: middle;\n",
       "    }\n",
       "\n",
       "    .dataframe tbody tr th {\n",
       "        vertical-align: top;\n",
       "    }\n",
       "\n",
       "    .dataframe thead th {\n",
       "        text-align: right;\n",
       "    }\n",
       "</style>\n",
       "<table border=\"1\" class=\"dataframe\">\n",
       "  <thead>\n",
       "    <tr style=\"text-align: right;\">\n",
       "      <th></th>\n",
       "      <th>Generated_Values</th>\n",
       "      <th>Generated_Increase</th>\n",
       "      <th>Lagged_Increase</th>\n",
       "    </tr>\n",
       "    <tr>\n",
       "      <th>index</th>\n",
       "      <th></th>\n",
       "      <th></th>\n",
       "      <th></th>\n",
       "    </tr>\n",
       "  </thead>\n",
       "  <tbody>\n",
       "    <tr>\n",
       "      <th>0</th>\n",
       "      <td>1045</td>\n",
       "      <td>0.000000</td>\n",
       "      <td>0.000000</td>\n",
       "    </tr>\n",
       "    <tr>\n",
       "      <th>1</th>\n",
       "      <td>1165</td>\n",
       "      <td>11.483254</td>\n",
       "      <td>0.000000</td>\n",
       "    </tr>\n",
       "    <tr>\n",
       "      <th>2</th>\n",
       "      <td>1295</td>\n",
       "      <td>11.158798</td>\n",
       "      <td>11.483254</td>\n",
       "    </tr>\n",
       "    <tr>\n",
       "      <th>3</th>\n",
       "      <td>1435</td>\n",
       "      <td>10.810811</td>\n",
       "      <td>11.158798</td>\n",
       "    </tr>\n",
       "    <tr>\n",
       "      <th>4</th>\n",
       "      <td>1557</td>\n",
       "      <td>8.501742</td>\n",
       "      <td>10.810811</td>\n",
       "    </tr>\n",
       "  </tbody>\n",
       "</table>\n",
       "</div>"
      ],
      "text/plain": [
       "       Generated_Values  Generated_Increase  Lagged_Increase\n",
       "index                                                       \n",
       "0                  1045            0.000000         0.000000\n",
       "1                  1165           11.483254         0.000000\n",
       "2                  1295           11.158798        11.483254\n",
       "3                  1435           10.810811        11.158798\n",
       "4                  1557            8.501742        10.810811"
      ]
     },
     "execution_count": 6,
     "metadata": {},
     "output_type": "execute_result"
    }
   ],
   "source": [
    "#use when day_input > 100\n",
    "\n",
    "print (f\"generating solution for {len(lanterns)} fish in {day_input} days\")\n",
    "value_days = []\n",
    "count_0 = lanterns.count(0)\n",
    "count_1 = lanterns.count(1)\n",
    "count_2 = lanterns.count(2)\n",
    "count_3 = lanterns.count(3)\n",
    "count_4 = lanterns.count(4)\n",
    "count_5 = lanterns.count(5)\n",
    "count_6 = lanterns.count(6)\n",
    "count_7 = lanterns.count(7)\n",
    "count_8 = lanterns.count(8)\n",
    "for x in range(0,day_input):\n",
    "    temp = count_0\n",
    "    count_0 = count_1\n",
    "    count_1 = count_2\n",
    "    count_2 = count_3\n",
    "    count_3 = count_4\n",
    "    count_4 = count_5\n",
    "    count_5 = count_6\n",
    "    count_6 = count_7\n",
    "    count_7 = count_8\n",
    "    count_8 = temp\n",
    "    count_6 += temp\n",
    "    sum_day = count_0 + count_1 + count_2 + count_3 + count_4 + count_5 + count_6 + count_7 + count_8\n",
    "    value_days.append(sum_day)\n",
    "print (f\"the total amount of fish on day {day_input} is {sum_day}\")\n",
    "df_test = pd.DataFrame(value_days)\n",
    "df_test[\"Generated_Values\"] = value_days\n",
    "df_test.reset_index(inplace = True)\n",
    "df_test.drop(df_test.columns[1], axis = 1, inplace = True)\n",
    "df_test.set_index(\"index\", inplace = True)\n",
    "df_test.head()\n",
    "df_test[\"Generated_Increase\"] = df_test.Generated_Values.pct_change() * 100\n",
    "df_test[\"Lagged_Increase\"] = df_test.Generated_Increase.shift()\n",
    "df_test.fillna(0,inplace = True)\n",
    "df_test.head()\n"
   ]
  },
  {
   "cell_type": "markdown",
   "id": "fa38e004",
   "metadata": {},
   "source": [
    "#### Train Data Set"
   ]
  },
  {
   "cell_type": "code",
   "execution_count": 7,
   "id": "28d92d63",
   "metadata": {},
   "outputs": [
    {
     "data": {
      "text/html": [
       "<div>\n",
       "<style scoped>\n",
       "    .dataframe tbody tr th:only-of-type {\n",
       "        vertical-align: middle;\n",
       "    }\n",
       "\n",
       "    .dataframe tbody tr th {\n",
       "        vertical-align: top;\n",
       "    }\n",
       "\n",
       "    .dataframe thead th {\n",
       "        text-align: right;\n",
       "    }\n",
       "</style>\n",
       "<table border=\"1\" class=\"dataframe\">\n",
       "  <thead>\n",
       "    <tr style=\"text-align: right;\">\n",
       "      <th></th>\n",
       "      <th>Values</th>\n",
       "    </tr>\n",
       "    <tr>\n",
       "      <th>index</th>\n",
       "      <th></th>\n",
       "    </tr>\n",
       "  </thead>\n",
       "  <tbody>\n",
       "    <tr>\n",
       "      <th>0</th>\n",
       "      <td>300</td>\n",
       "    </tr>\n",
       "    <tr>\n",
       "      <th>1</th>\n",
       "      <td>415</td>\n",
       "    </tr>\n",
       "    <tr>\n",
       "      <th>2</th>\n",
       "      <td>467</td>\n",
       "    </tr>\n",
       "    <tr>\n",
       "      <th>3</th>\n",
       "      <td>514</td>\n",
       "    </tr>\n",
       "    <tr>\n",
       "      <th>4</th>\n",
       "      <td>563</td>\n",
       "    </tr>\n",
       "    <tr>\n",
       "      <th>5</th>\n",
       "      <td>600</td>\n",
       "    </tr>\n",
       "    <tr>\n",
       "      <th>6</th>\n",
       "      <td>600</td>\n",
       "    </tr>\n",
       "    <tr>\n",
       "      <th>7</th>\n",
       "      <td>600</td>\n",
       "    </tr>\n",
       "    <tr>\n",
       "      <th>8</th>\n",
       "      <td>715</td>\n",
       "    </tr>\n",
       "    <tr>\n",
       "      <th>9</th>\n",
       "      <td>767</td>\n",
       "    </tr>\n",
       "    <tr>\n",
       "      <th>10</th>\n",
       "      <td>929</td>\n",
       "    </tr>\n",
       "    <tr>\n",
       "      <th>11</th>\n",
       "      <td>1030</td>\n",
       "    </tr>\n",
       "    <tr>\n",
       "      <th>12</th>\n",
       "      <td>1114</td>\n",
       "    </tr>\n",
       "    <tr>\n",
       "      <th>13</th>\n",
       "      <td>1163</td>\n",
       "    </tr>\n",
       "    <tr>\n",
       "      <th>14</th>\n",
       "      <td>1200</td>\n",
       "    </tr>\n",
       "    <tr>\n",
       "      <th>15</th>\n",
       "      <td>1315</td>\n",
       "    </tr>\n",
       "    <tr>\n",
       "      <th>16</th>\n",
       "      <td>1367</td>\n",
       "    </tr>\n",
       "    <tr>\n",
       "      <th>17</th>\n",
       "      <td>1644</td>\n",
       "    </tr>\n",
       "    <tr>\n",
       "      <th>18</th>\n",
       "      <td>1797</td>\n",
       "    </tr>\n",
       "    <tr>\n",
       "      <th>19</th>\n",
       "      <td>2043</td>\n",
       "    </tr>\n",
       "    <tr>\n",
       "      <th>20</th>\n",
       "      <td>2193</td>\n",
       "    </tr>\n",
       "    <tr>\n",
       "      <th>21</th>\n",
       "      <td>2314</td>\n",
       "    </tr>\n",
       "    <tr>\n",
       "      <th>22</th>\n",
       "      <td>2478</td>\n",
       "    </tr>\n",
       "    <tr>\n",
       "      <th>23</th>\n",
       "      <td>2567</td>\n",
       "    </tr>\n",
       "    <tr>\n",
       "      <th>24</th>\n",
       "      <td>2959</td>\n",
       "    </tr>\n",
       "  </tbody>\n",
       "</table>\n",
       "</div>"
      ],
      "text/plain": [
       "      Values\n",
       "index       \n",
       "0        300\n",
       "1        415\n",
       "2        467\n",
       "3        514\n",
       "4        563\n",
       "5        600\n",
       "6        600\n",
       "7        600\n",
       "8        715\n",
       "9        767\n",
       "10       929\n",
       "11      1030\n",
       "12      1114\n",
       "13      1163\n",
       "14      1200\n",
       "15      1315\n",
       "16      1367\n",
       "17      1644\n",
       "18      1797\n",
       "19      2043\n",
       "20      2193\n",
       "21      2314\n",
       "22      2478\n",
       "23      2567\n",
       "24      2959"
      ]
     },
     "execution_count": 7,
     "metadata": {},
     "output_type": "execute_result"
    }
   ],
   "source": [
    "#### Generating train set data\n",
    "value_days = []\n",
    "lanterns = [1,3,3,4,5,1,1,1,1,1,1,2,1,4,1,1,1,5,2,2,4,3,1,1,2,5,4,2,2,3,1,2,3,2,1,1,4,4,2,4,4,1,2,4,3,3,3,1,1,3,4,5,2,5,1,2,5,1,1,1,3,2,3,3,1,4,1,1,4,1,4,1,1,1,1,5,4,2,1,2,2,5,5,1,1,1,1,2,1,1,1,1,3,2,3,1,4,3,1,1,3,1,1,1,1,3,3,4,5,1,1,5,4,4,4,4,2,5,1,1,2,5,1,3,4,4,1,4,1,5,5,2,4,5,1,1,3,1,3,1,4,1,3,1,2,2,1,5,1,5,1,3,1,3,1,4,1,4,5,1,4,5,1,1,5,2,2,4,5,1,3,2,4,2,1,1,1,2,1,2,1,3,4,4,2,2,4,2,1,4,1,3,1,3,5,3,1,1,2,2,1,5,2,1,1,1,1,1,5,4,3,5,3,3,1,5,5,4,4,2,1,1,1,2,5,3,3,2,1,1,1,5,5,3,1,4,4,2,4,2,1,1,1,5,1,2,4,1,3,4,4,2,1,4,2,1,3,4,3,3,2,3,1,5,3,1,1,5,1,2,2,4,4,1,2,3,1,2,1,1,2,1,1,1,2,3,5,5,1,2,3,1,3,5,4,2,1,3,3,4]\n",
    "count_0 = lanterns.count(0)\n",
    "count_1 = lanterns.count(1)\n",
    "count_2 = lanterns.count(2)\n",
    "count_3 = lanterns.count(3)\n",
    "count_4 = lanterns.count(4)\n",
    "count_5 = lanterns.count(5)\n",
    "count_6 = lanterns.count(6)\n",
    "count_7 = lanterns.count(7)\n",
    "count_8 = lanterns.count(8)\n",
    "#creating the test set of 2500 days\n",
    "for x in range (0,2500):\n",
    "    #subtract 1 from each \n",
    "    temp = count_0\n",
    "    count_0 = count_1\n",
    "    count_1 = count_2\n",
    "    count_2 = count_3\n",
    "    count_3 = count_4\n",
    "    count_4 = count_5\n",
    "    count_5 = count_6\n",
    "    count_6 = count_7\n",
    "    count_7 = count_8\n",
    "    count_8 = temp\n",
    "    count_6 += temp\n",
    "    sum_day = count_0 + count_1 + count_2 + count_3 + count_4 + count_5 + count_6 + count_7 + count_8\n",
    "    value_days.append(sum_day)\n",
    "train_set = pd.DataFrame(value_days)\n",
    "train_set[\"Values\"] = value_days\n",
    "train_set.reset_index(inplace = True)\n",
    "train_set.drop(train_set.columns[1], axis = 1, inplace = True)\n",
    "train_set.set_index(\"index\", inplace = True)\n",
    "train_set.head(25)\n"
   ]
  },
  {
   "cell_type": "code",
   "execution_count": 8,
   "id": "9e15f6ce",
   "metadata": {},
   "outputs": [
    {
     "data": {
      "text/html": [
       "<div>\n",
       "<style scoped>\n",
       "    .dataframe tbody tr th:only-of-type {\n",
       "        vertical-align: middle;\n",
       "    }\n",
       "\n",
       "    .dataframe tbody tr th {\n",
       "        vertical-align: top;\n",
       "    }\n",
       "\n",
       "    .dataframe thead th {\n",
       "        text-align: right;\n",
       "    }\n",
       "</style>\n",
       "<table border=\"1\" class=\"dataframe\">\n",
       "  <thead>\n",
       "    <tr style=\"text-align: right;\">\n",
       "      <th></th>\n",
       "      <th>Values</th>\n",
       "      <th>Increase</th>\n",
       "      <th>Lagged Increase</th>\n",
       "    </tr>\n",
       "    <tr>\n",
       "      <th>index</th>\n",
       "      <th></th>\n",
       "      <th></th>\n",
       "      <th></th>\n",
       "    </tr>\n",
       "  </thead>\n",
       "  <tbody>\n",
       "    <tr>\n",
       "      <th>0</th>\n",
       "      <td>300</td>\n",
       "      <td>0.000000</td>\n",
       "      <td>0.000000</td>\n",
       "    </tr>\n",
       "    <tr>\n",
       "      <th>1</th>\n",
       "      <td>415</td>\n",
       "      <td>38.333333</td>\n",
       "      <td>0.000000</td>\n",
       "    </tr>\n",
       "    <tr>\n",
       "      <th>2</th>\n",
       "      <td>467</td>\n",
       "      <td>12.530120</td>\n",
       "      <td>38.333333</td>\n",
       "    </tr>\n",
       "    <tr>\n",
       "      <th>3</th>\n",
       "      <td>514</td>\n",
       "      <td>10.064240</td>\n",
       "      <td>12.530120</td>\n",
       "    </tr>\n",
       "    <tr>\n",
       "      <th>4</th>\n",
       "      <td>563</td>\n",
       "      <td>9.533074</td>\n",
       "      <td>10.064240</td>\n",
       "    </tr>\n",
       "  </tbody>\n",
       "</table>\n",
       "</div>"
      ],
      "text/plain": [
       "      Values   Increase  Lagged Increase\n",
       "index                                   \n",
       "0        300   0.000000         0.000000\n",
       "1        415  38.333333         0.000000\n",
       "2        467  12.530120        38.333333\n",
       "3        514  10.064240        12.530120\n",
       "4        563   9.533074        10.064240"
      ]
     },
     "execution_count": 8,
     "metadata": {},
     "output_type": "execute_result"
    }
   ],
   "source": [
    "train_set[\"Increase\"] = train_set.Values.pct_change() *100\n",
    "train_set[\"Lagged Increase\"] = train_set.Increase.shift()\n",
    "train_set.fillna(0, inplace = True)\n",
    "train_set.head()"
   ]
  },
  {
   "cell_type": "code",
   "execution_count": 9,
   "id": "3312c390",
   "metadata": {},
   "outputs": [],
   "source": [
    "train = train_set\n",
    "test = df_test"
   ]
  },
  {
   "cell_type": "code",
   "execution_count": 10,
   "id": "a61584ff",
   "metadata": {},
   "outputs": [],
   "source": [
    "X_train = train[\"Lagged Increase\"].to_frame()\n",
    "X_test = test[\"Lagged_Increase\"].to_frame()\n",
    "y_train = train[\"Increase\"].to_frame()\n",
    "y_test = test[\"Generated_Increase\"].to_frame()\n"
   ]
  },
  {
   "cell_type": "code",
   "execution_count": 11,
   "id": "bb1fab4c",
   "metadata": {},
   "outputs": [
    {
     "data": {
      "text/plain": [
       "LinearRegression()"
      ]
     },
     "execution_count": 11,
     "metadata": {},
     "output_type": "execute_result"
    }
   ],
   "source": [
    "model = LinearRegression()\n",
    "model.fit(X_train, y_train)"
   ]
  },
  {
   "cell_type": "code",
   "execution_count": 12,
   "id": "24fb6eb5",
   "metadata": {},
   "outputs": [],
   "source": [
    "predictions = model.predict(X_test)\n",
    "Results = y_test\n",
    "Results[\"Predicted Increase\"] = predictions"
   ]
  },
  {
   "cell_type": "code",
   "execution_count": 13,
   "id": "e41d871d",
   "metadata": {},
   "outputs": [
    {
     "data": {
      "text/html": [
       "<div>\n",
       "<style scoped>\n",
       "    .dataframe tbody tr th:only-of-type {\n",
       "        vertical-align: middle;\n",
       "    }\n",
       "\n",
       "    .dataframe tbody tr th {\n",
       "        vertical-align: top;\n",
       "    }\n",
       "\n",
       "    .dataframe thead th {\n",
       "        text-align: right;\n",
       "    }\n",
       "</style>\n",
       "<table border=\"1\" class=\"dataframe\">\n",
       "  <thead>\n",
       "    <tr style=\"text-align: right;\">\n",
       "      <th></th>\n",
       "      <th>Generated_Increase</th>\n",
       "      <th>Predicted Increase</th>\n",
       "    </tr>\n",
       "    <tr>\n",
       "      <th>index</th>\n",
       "      <th></th>\n",
       "      <th></th>\n",
       "    </tr>\n",
       "  </thead>\n",
       "  <tbody>\n",
       "    <tr>\n",
       "      <th>0</th>\n",
       "      <td>0.000000</td>\n",
       "      <td>11.400310</td>\n",
       "    </tr>\n",
       "    <tr>\n",
       "      <th>1</th>\n",
       "      <td>11.483254</td>\n",
       "      <td>11.400310</td>\n",
       "    </tr>\n",
       "    <tr>\n",
       "      <th>2</th>\n",
       "      <td>11.158798</td>\n",
       "      <td>8.514895</td>\n",
       "    </tr>\n",
       "    <tr>\n",
       "      <th>3</th>\n",
       "      <td>10.810811</td>\n",
       "      <td>8.596421</td>\n",
       "    </tr>\n",
       "    <tr>\n",
       "      <th>4</th>\n",
       "      <td>8.501742</td>\n",
       "      <td>8.683861</td>\n",
       "    </tr>\n",
       "    <tr>\n",
       "      <th>...</th>\n",
       "      <td>...</td>\n",
       "      <td>...</td>\n",
       "    </tr>\n",
       "    <tr>\n",
       "      <th>115</th>\n",
       "      <td>9.124927</td>\n",
       "      <td>9.069649</td>\n",
       "    </tr>\n",
       "    <tr>\n",
       "      <th>116</th>\n",
       "      <td>8.904162</td>\n",
       "      <td>9.107475</td>\n",
       "    </tr>\n",
       "    <tr>\n",
       "      <th>117</th>\n",
       "      <td>9.407959</td>\n",
       "      <td>9.162947</td>\n",
       "    </tr>\n",
       "    <tr>\n",
       "      <th>118</th>\n",
       "      <td>8.682094</td>\n",
       "      <td>9.036358</td>\n",
       "    </tr>\n",
       "    <tr>\n",
       "      <th>119</th>\n",
       "      <td>9.526978</td>\n",
       "      <td>9.218747</td>\n",
       "    </tr>\n",
       "  </tbody>\n",
       "</table>\n",
       "<p>120 rows × 2 columns</p>\n",
       "</div>"
      ],
      "text/plain": [
       "       Generated_Increase  Predicted Increase\n",
       "index                                        \n",
       "0                0.000000           11.400310\n",
       "1               11.483254           11.400310\n",
       "2               11.158798            8.514895\n",
       "3               10.810811            8.596421\n",
       "4                8.501742            8.683861\n",
       "...                   ...                 ...\n",
       "115              9.124927            9.069649\n",
       "116              8.904162            9.107475\n",
       "117              9.407959            9.162947\n",
       "118              8.682094            9.036358\n",
       "119              9.526978            9.218747\n",
       "\n",
       "[120 rows x 2 columns]"
      ]
     },
     "execution_count": 13,
     "metadata": {},
     "output_type": "execute_result"
    }
   ],
   "source": [
    "Results"
   ]
  },
  {
   "cell_type": "code",
   "execution_count": 14,
   "id": "ff3ab003",
   "metadata": {},
   "outputs": [
    {
     "data": {
      "text/plain": [
       "array([<AxesSubplot:xlabel='index'>, <AxesSubplot:xlabel='index'>],\n",
       "      dtype=object)"
      ]
     },
     "execution_count": 14,
     "metadata": {},
     "output_type": "execute_result"
    },
    {
     "data": {
      "image/png": "[encoded data removed]",
      "text/plain": [
       "<Figure size 432x288 with 2 Axes>"
      ]
     },
     "metadata": {
      "needs_background": "light"
     },
     "output_type": "display_data"
    }
   ],
   "source": [
    "Results[:2000].plot(subplots=True)"
   ]
  },
  {
   "cell_type": "code",
   "execution_count": 15,
   "id": "9da18a73",
   "metadata": {},
   "outputs": [
    {
     "data": {
      "text/plain": [
       "<AxesSubplot:xlabel='index'>"
      ]
     },
     "execution_count": 15,
     "metadata": {},
     "output_type": "execute_result"
    },
    {
     "data": {
      "image/png": "[encoded data removed]",
      "text/plain": [
       "<Figure size 432x288 with 1 Axes>"
      ]
     },
     "metadata": {
      "needs_background": "light"
     },
     "output_type": "display_data"
    }
   ],
   "source": [
    "Results[:2000].plot()"
   ]
  },
  {
   "cell_type": "code",
   "execution_count": 16,
   "id": "fe9eb849",
   "metadata": {},
   "outputs": [
    {
     "name": "stdout",
     "output_type": "stream",
     "text": [
      "Out-of-Sample Root Mean Squared Error (RMSE): 1.398989521566862\n"
     ]
    }
   ],
   "source": [
    "from sklearn.metrics import mean_squared_error, r2_score\n",
    "# Calculate the mean_squared_error (MSE) on actual versus predicted test \"y\" \n",
    "# (Hint: use the dataframe above)\n",
    "mse = mean_squared_error(\n",
    "    Results[\"Generated_Increase\"],\n",
    "    Results[\"Predicted Increase\"]\n",
    ")\n",
    "\n",
    "# Using that mean-squared-error, calculate the root-mean-squared error (RMSE):\n",
    "rmse = np.sqrt(mse)\n",
    "print(f\"Out-of-Sample Root Mean Squared Error (RMSE): {rmse}\")"
   ]
  },
  {
   "cell_type": "code",
   "execution_count": 17,
   "id": "2d2fc047",
   "metadata": {},
   "outputs": [
    {
     "name": "stdout",
     "output_type": "stream",
     "text": [
      "In-sample Root Mean Squared Error (RMSE): 0.9312530070060396\n"
     ]
    }
   ],
   "source": [
    "# Construct a dataframe using just the \"y\" training data:\n",
    "in_sample_results = y_train\n",
    "\n",
    "# Add a column of \"in-sample\" predictions to that DataFrame:  \n",
    "in_sample_results[\"In-sample Predictions\"] = model.predict(X_train)\n",
    "\n",
    "# Calculate in-sample mean_squared_error (for comparison to out-of-sample)\n",
    "in_sample_mse = mean_squared_error(\n",
    "    in_sample_results[\"Increase\"],\n",
    "    in_sample_results[\"In-sample Predictions\"]\n",
    ")\n",
    "\n",
    "# Calculate in-sample root mean_squared_error (for comparison to out-of-sample)\n",
    "in_sample_rmse = np.sqrt(in_sample_mse)\n",
    "print(f\"In-sample Root Mean Squared Error (RMSE): {in_sample_rmse}\")"
   ]
  },
  {
   "cell_type": "code",
   "execution_count": 18,
   "id": "c31d5303",
   "metadata": {},
   "outputs": [
    {
     "data": {
      "text/html": [
       "<div>\n",
       "<style scoped>\n",
       "    .dataframe tbody tr th:only-of-type {\n",
       "        vertical-align: middle;\n",
       "    }\n",
       "\n",
       "    .dataframe tbody tr th {\n",
       "        vertical-align: top;\n",
       "    }\n",
       "\n",
       "    .dataframe thead th {\n",
       "        text-align: right;\n",
       "    }\n",
       "</style>\n",
       "<table border=\"1\" class=\"dataframe\">\n",
       "  <thead>\n",
       "    <tr style=\"text-align: right;\">\n",
       "      <th></th>\n",
       "      <th>Increase</th>\n",
       "      <th>In-sample Predictions</th>\n",
       "    </tr>\n",
       "    <tr>\n",
       "      <th>index</th>\n",
       "      <th></th>\n",
       "      <th></th>\n",
       "    </tr>\n",
       "  </thead>\n",
       "  <tbody>\n",
       "    <tr>\n",
       "      <th>0</th>\n",
       "      <td>0.000000</td>\n",
       "      <td>11.400310</td>\n",
       "    </tr>\n",
       "    <tr>\n",
       "      <th>1</th>\n",
       "      <td>38.333333</td>\n",
       "      <td>11.400310</td>\n",
       "    </tr>\n",
       "    <tr>\n",
       "      <th>2</th>\n",
       "      <td>12.530120</td>\n",
       "      <td>1.768233</td>\n",
       "    </tr>\n",
       "    <tr>\n",
       "      <th>3</th>\n",
       "      <td>10.064240</td>\n",
       "      <td>8.251847</td>\n",
       "    </tr>\n",
       "    <tr>\n",
       "      <th>4</th>\n",
       "      <td>9.533074</td>\n",
       "      <td>8.871453</td>\n",
       "    </tr>\n",
       "    <tr>\n",
       "      <th>...</th>\n",
       "      <td>...</td>\n",
       "      <td>...</td>\n",
       "    </tr>\n",
       "    <tr>\n",
       "      <th>2495</th>\n",
       "      <td>9.102447</td>\n",
       "      <td>9.113124</td>\n",
       "    </tr>\n",
       "    <tr>\n",
       "      <th>2496</th>\n",
       "      <td>9.102447</td>\n",
       "      <td>9.113124</td>\n",
       "    </tr>\n",
       "    <tr>\n",
       "      <th>2497</th>\n",
       "      <td>9.102447</td>\n",
       "      <td>9.113124</td>\n",
       "    </tr>\n",
       "    <tr>\n",
       "      <th>2498</th>\n",
       "      <td>9.102447</td>\n",
       "      <td>9.113124</td>\n",
       "    </tr>\n",
       "    <tr>\n",
       "      <th>2499</th>\n",
       "      <td>9.102447</td>\n",
       "      <td>9.113124</td>\n",
       "    </tr>\n",
       "  </tbody>\n",
       "</table>\n",
       "<p>2500 rows × 2 columns</p>\n",
       "</div>"
      ],
      "text/plain": [
       "        Increase  In-sample Predictions\n",
       "index                                  \n",
       "0       0.000000              11.400310\n",
       "1      38.333333              11.400310\n",
       "2      12.530120               1.768233\n",
       "3      10.064240               8.251847\n",
       "4       9.533074               8.871453\n",
       "...          ...                    ...\n",
       "2495    9.102447               9.113124\n",
       "2496    9.102447               9.113124\n",
       "2497    9.102447               9.113124\n",
       "2498    9.102447               9.113124\n",
       "2499    9.102447               9.113124\n",
       "\n",
       "[2500 rows x 2 columns]"
      ]
     },
     "execution_count": 18,
     "metadata": {},
     "output_type": "execute_result"
    }
   ],
   "source": [
    "in_sample_results"
   ]
  },
  {
   "cell_type": "code",
   "execution_count": 19,
   "id": "c2783b08",
   "metadata": {},
   "outputs": [],
   "source": [
    "train[\"Value Difference\"] = train[\"Values\"].diff()\n",
    "train.fillna(0,inplace = True)"
   ]
  },
  {
   "cell_type": "code",
   "execution_count": 20,
   "id": "d89982bd",
   "metadata": {},
   "outputs": [
    {
     "data": {
      "text/html": [
       "<div>\n",
       "<style scoped>\n",
       "    .dataframe tbody tr th:only-of-type {\n",
       "        vertical-align: middle;\n",
       "    }\n",
       "\n",
       "    .dataframe tbody tr th {\n",
       "        vertical-align: top;\n",
       "    }\n",
       "\n",
       "    .dataframe thead th {\n",
       "        text-align: right;\n",
       "    }\n",
       "</style>\n",
       "<table border=\"1\" class=\"dataframe\">\n",
       "  <thead>\n",
       "    <tr style=\"text-align: right;\">\n",
       "      <th></th>\n",
       "      <th>Values</th>\n",
       "      <th>Increase</th>\n",
       "      <th>Lagged Increase</th>\n",
       "      <th>Value Difference</th>\n",
       "    </tr>\n",
       "    <tr>\n",
       "      <th>index</th>\n",
       "      <th></th>\n",
       "      <th></th>\n",
       "      <th></th>\n",
       "      <th></th>\n",
       "    </tr>\n",
       "  </thead>\n",
       "  <tbody>\n",
       "    <tr>\n",
       "      <th>0</th>\n",
       "      <td>300</td>\n",
       "      <td>0.000000</td>\n",
       "      <td>0.000000</td>\n",
       "      <td>0</td>\n",
       "    </tr>\n",
       "    <tr>\n",
       "      <th>1</th>\n",
       "      <td>415</td>\n",
       "      <td>38.333333</td>\n",
       "      <td>0.000000</td>\n",
       "      <td>115</td>\n",
       "    </tr>\n",
       "    <tr>\n",
       "      <th>2</th>\n",
       "      <td>467</td>\n",
       "      <td>12.530120</td>\n",
       "      <td>38.333333</td>\n",
       "      <td>52</td>\n",
       "    </tr>\n",
       "    <tr>\n",
       "      <th>3</th>\n",
       "      <td>514</td>\n",
       "      <td>10.064240</td>\n",
       "      <td>12.530120</td>\n",
       "      <td>47</td>\n",
       "    </tr>\n",
       "    <tr>\n",
       "      <th>4</th>\n",
       "      <td>563</td>\n",
       "      <td>9.533074</td>\n",
       "      <td>10.064240</td>\n",
       "      <td>49</td>\n",
       "    </tr>\n",
       "    <tr>\n",
       "      <th>...</th>\n",
       "      <td>...</td>\n",
       "      <td>...</td>\n",
       "      <td>...</td>\n",
       "      <td>...</td>\n",
       "    </tr>\n",
       "    <tr>\n",
       "      <th>2495</th>\n",
       "      <td>9213336276330578726237693854577772905604372255...</td>\n",
       "      <td>9.102447</td>\n",
       "      <td>9.102447</td>\n",
       "      <td>7686711697121311904038457600072227067708345037...</td>\n",
       "    </tr>\n",
       "    <tr>\n",
       "      <th>2496</th>\n",
       "      <td>1005197533225015986693612973858223664240149788...</td>\n",
       "      <td>9.102447</td>\n",
       "      <td>9.102447</td>\n",
       "      <td>8386390559195811406984358840044637367971256256...</td>\n",
       "    </tr>\n",
       "    <tr>\n",
       "      <th>2497</th>\n",
       "      <td>1096695106414900700475426731503727356269186696...</td>\n",
       "      <td>9.102447</td>\n",
       "      <td>9.102447</td>\n",
       "      <td>9149757318988471378181375764550369202903690867...</td>\n",
       "    </tr>\n",
       "    <tr>\n",
       "      <th>2498</th>\n",
       "      <td>1196521197755486120128525501199546473478582891...</td>\n",
       "      <td>9.102447</td>\n",
       "      <td>9.102447</td>\n",
       "      <td>9982609134058541965309876969581911720939619443...</td>\n",
       "    </tr>\n",
       "    <tr>\n",
       "      <th>2499</th>\n",
       "      <td>1305433906200084891013180950345145814626818221...</td>\n",
       "      <td>9.102447</td>\n",
       "      <td>9.102447</td>\n",
       "      <td>1089127084445987708846554491455993411482353304...</td>\n",
       "    </tr>\n",
       "  </tbody>\n",
       "</table>\n",
       "<p>2500 rows × 4 columns</p>\n",
       "</div>"
      ],
      "text/plain": [
       "                                                  Values   Increase  \\\n",
       "index                                                                 \n",
       "0                                                    300   0.000000   \n",
       "1                                                    415  38.333333   \n",
       "2                                                    467  12.530120   \n",
       "3                                                    514  10.064240   \n",
       "4                                                    563   9.533074   \n",
       "...                                                  ...        ...   \n",
       "2495   9213336276330578726237693854577772905604372255...   9.102447   \n",
       "2496   1005197533225015986693612973858223664240149788...   9.102447   \n",
       "2497   1096695106414900700475426731503727356269186696...   9.102447   \n",
       "2498   1196521197755486120128525501199546473478582891...   9.102447   \n",
       "2499   1305433906200084891013180950345145814626818221...   9.102447   \n",
       "\n",
       "       Lagged Increase                                   Value Difference  \n",
       "index                                                                      \n",
       "0             0.000000                                                  0  \n",
       "1             0.000000                                                115  \n",
       "2            38.333333                                                 52  \n",
       "3            12.530120                                                 47  \n",
       "4            10.064240                                                 49  \n",
       "...                ...                                                ...  \n",
       "2495          9.102447  7686711697121311904038457600072227067708345037...  \n",
       "2496          9.102447  8386390559195811406984358840044637367971256256...  \n",
       "2497          9.102447  9149757318988471378181375764550369202903690867...  \n",
       "2498          9.102447  9982609134058541965309876969581911720939619443...  \n",
       "2499          9.102447  1089127084445987708846554491455993411482353304...  \n",
       "\n",
       "[2500 rows x 4 columns]"
      ]
     },
     "execution_count": 20,
     "metadata": {},
     "output_type": "execute_result"
    }
   ],
   "source": [
    "train"
   ]
  },
  {
   "cell_type": "code",
   "execution_count": 21,
   "id": "1544519c",
   "metadata": {},
   "outputs": [],
   "source": [
    "test[\"Generated Difference\"] = test[\"Generated_Values\"].diff()\n",
    "test.fillna(0,inplace = True)"
   ]
  },
  {
   "cell_type": "code",
   "execution_count": 22,
   "id": "31c8e686",
   "metadata": {},
   "outputs": [
    {
     "data": {
      "text/html": [
       "<div>\n",
       "<style scoped>\n",
       "    .dataframe tbody tr th:only-of-type {\n",
       "        vertical-align: middle;\n",
       "    }\n",
       "\n",
       "    .dataframe tbody tr th {\n",
       "        vertical-align: top;\n",
       "    }\n",
       "\n",
       "    .dataframe thead th {\n",
       "        text-align: right;\n",
       "    }\n",
       "</style>\n",
       "<table border=\"1\" class=\"dataframe\">\n",
       "  <thead>\n",
       "    <tr style=\"text-align: right;\">\n",
       "      <th></th>\n",
       "      <th>Generated_Values</th>\n",
       "      <th>Predicted Values</th>\n",
       "    </tr>\n",
       "    <tr>\n",
       "      <th>index</th>\n",
       "      <th></th>\n",
       "      <th></th>\n",
       "    </tr>\n",
       "  </thead>\n",
       "  <tbody>\n",
       "    <tr>\n",
       "      <th>0</th>\n",
       "      <td>1045</td>\n",
       "      <td>1141.338217</td>\n",
       "    </tr>\n",
       "    <tr>\n",
       "      <th>1</th>\n",
       "      <td>1165</td>\n",
       "      <td>2296.340321</td>\n",
       "    </tr>\n",
       "    <tr>\n",
       "      <th>2</th>\n",
       "      <td>1295</td>\n",
       "      <td>2392.590496</td>\n",
       "    </tr>\n",
       "    <tr>\n",
       "      <th>3</th>\n",
       "      <td>1435</td>\n",
       "      <td>2488.840671</td>\n",
       "    </tr>\n",
       "    <tr>\n",
       "      <th>4</th>\n",
       "      <td>1557</td>\n",
       "      <td>2315.590356</td>\n",
       "    </tr>\n",
       "    <tr>\n",
       "      <th>5</th>\n",
       "      <td>1675</td>\n",
       "      <td>2277.090286</td>\n",
       "    </tr>\n",
       "    <tr>\n",
       "      <th>6</th>\n",
       "      <td>1800</td>\n",
       "      <td>2344.465408</td>\n",
       "    </tr>\n",
       "    <tr>\n",
       "      <th>7</th>\n",
       "      <td>1945</td>\n",
       "      <td>2536.965759</td>\n",
       "    </tr>\n",
       "    <tr>\n",
       "      <th>8</th>\n",
       "      <td>2065</td>\n",
       "      <td>2296.340321</td>\n",
       "    </tr>\n",
       "    <tr>\n",
       "      <th>9</th>\n",
       "      <td>2340</td>\n",
       "      <td>3788.218038</td>\n",
       "    </tr>\n",
       "    <tr>\n",
       "      <th>10</th>\n",
       "      <td>2600</td>\n",
       "      <td>3643.842775</td>\n",
       "    </tr>\n",
       "    <tr>\n",
       "      <th>11</th>\n",
       "      <td>2852</td>\n",
       "      <td>3566.842635</td>\n",
       "    </tr>\n",
       "    <tr>\n",
       "      <th>12</th>\n",
       "      <td>3110</td>\n",
       "      <td>3624.592740</td>\n",
       "    </tr>\n",
       "    <tr>\n",
       "      <th>13</th>\n",
       "      <td>3357</td>\n",
       "      <td>3518.717547</td>\n",
       "    </tr>\n",
       "    <tr>\n",
       "      <th>14</th>\n",
       "      <td>3620</td>\n",
       "      <td>3672.717828</td>\n",
       "    </tr>\n",
       "    <tr>\n",
       "      <th>15</th>\n",
       "      <td>3865</td>\n",
       "      <td>3499.467512</td>\n",
       "    </tr>\n",
       "    <tr>\n",
       "      <th>16</th>\n",
       "      <td>4285</td>\n",
       "      <td>5183.845581</td>\n",
       "    </tr>\n",
       "    <tr>\n",
       "      <th>17</th>\n",
       "      <td>4665</td>\n",
       "      <td>4798.844879</td>\n",
       "    </tr>\n",
       "    <tr>\n",
       "      <th>18</th>\n",
       "      <td>5192</td>\n",
       "      <td>6213.722457</td>\n",
       "    </tr>\n",
       "    <tr>\n",
       "      <th>19</th>\n",
       "      <td>5710</td>\n",
       "      <td>6127.097299</td>\n",
       "    </tr>\n",
       "    <tr>\n",
       "      <th>20</th>\n",
       "      <td>6209</td>\n",
       "      <td>5944.221966</td>\n",
       "    </tr>\n",
       "    <tr>\n",
       "      <th>21</th>\n",
       "      <td>6730</td>\n",
       "      <td>6155.972352</td>\n",
       "    </tr>\n",
       "    <tr>\n",
       "      <th>22</th>\n",
       "      <td>7222</td>\n",
       "      <td>5876.846843</td>\n",
       "    </tr>\n",
       "    <tr>\n",
       "      <th>23</th>\n",
       "      <td>7905</td>\n",
       "      <td>7715.225192</td>\n",
       "    </tr>\n",
       "    <tr>\n",
       "      <th>24</th>\n",
       "      <td>8530</td>\n",
       "      <td>7156.974175</td>\n",
       "    </tr>\n",
       "    <tr>\n",
       "      <th>25</th>\n",
       "      <td>9477</td>\n",
       "      <td>10256.229821</td>\n",
       "    </tr>\n",
       "    <tr>\n",
       "      <th>26</th>\n",
       "      <td>10375</td>\n",
       "      <td>9784.603962</td>\n",
       "    </tr>\n",
       "    <tr>\n",
       "      <th>27</th>\n",
       "      <td>11401</td>\n",
       "      <td>11016.606206</td>\n",
       "    </tr>\n",
       "    <tr>\n",
       "      <th>28</th>\n",
       "      <td>12440</td>\n",
       "      <td>11141.731434</td>\n",
       "    </tr>\n",
       "    <tr>\n",
       "      <th>29</th>\n",
       "      <td>13431</td>\n",
       "      <td>10679.730593</td>\n",
       "    </tr>\n",
       "    <tr>\n",
       "      <th>30</th>\n",
       "      <td>14635</td>\n",
       "      <td>12729.859327</td>\n",
       "    </tr>\n",
       "    <tr>\n",
       "      <th>31</th>\n",
       "      <td>15752</td>\n",
       "      <td>11892.482802</td>\n",
       "    </tr>\n",
       "    <tr>\n",
       "      <th>32</th>\n",
       "      <td>17382</td>\n",
       "      <td>16830.116797</td>\n",
       "    </tr>\n",
       "    <tr>\n",
       "      <th>33</th>\n",
       "      <td>18905</td>\n",
       "      <td>15800.239921</td>\n",
       "    </tr>\n",
       "    <tr>\n",
       "      <th>34</th>\n",
       "      <td>20878</td>\n",
       "      <td>20131.497811</td>\n",
       "    </tr>\n",
       "    <tr>\n",
       "      <th>35</th>\n",
       "      <td>22815</td>\n",
       "      <td>19784.997180</td>\n",
       "    </tr>\n",
       "    <tr>\n",
       "      <th>36</th>\n",
       "      <td>24832</td>\n",
       "      <td>20554.998582</td>\n",
       "    </tr>\n",
       "    <tr>\n",
       "      <th>37</th>\n",
       "      <td>27075</td>\n",
       "      <td>22730.252545</td>\n",
       "    </tr>\n",
       "    <tr>\n",
       "      <th>38</th>\n",
       "      <td>29183</td>\n",
       "      <td>21430.875178</td>\n",
       "    </tr>\n",
       "    <tr>\n",
       "      <th>39</th>\n",
       "      <td>32017</td>\n",
       "      <td>28418.637907</td>\n",
       "    </tr>\n",
       "    <tr>\n",
       "      <th>40</th>\n",
       "      <td>34657</td>\n",
       "      <td>26551.384506</td>\n",
       "    </tr>\n",
       "    <tr>\n",
       "      <th>41</th>\n",
       "      <td>38260</td>\n",
       "      <td>35820.276391</td>\n",
       "    </tr>\n",
       "    <tr>\n",
       "      <th>42</th>\n",
       "      <td>41720</td>\n",
       "      <td>34443.898883</td>\n",
       "    </tr>\n",
       "    <tr>\n",
       "      <th>43</th>\n",
       "      <td>45710</td>\n",
       "      <td>39545.158176</td>\n",
       "    </tr>\n",
       "    <tr>\n",
       "      <th>44</th>\n",
       "      <td>49890</td>\n",
       "      <td>41373.911508</td>\n",
       "    </tr>\n",
       "    <tr>\n",
       "      <th>45</th>\n",
       "      <td>54015</td>\n",
       "      <td>40844.535543</td>\n",
       "    </tr>\n",
       "    <tr>\n",
       "      <th>46</th>\n",
       "      <td>59092</td>\n",
       "      <td>50007.552236</td>\n",
       "    </tr>\n",
       "    <tr>\n",
       "      <th>47</th>\n",
       "      <td>63840</td>\n",
       "      <td>46840.921467</td>\n",
       "    </tr>\n",
       "    <tr>\n",
       "      <th>48</th>\n",
       "      <td>70277</td>\n",
       "      <td>63097.576082</td>\n",
       "    </tr>\n",
       "    <tr>\n",
       "      <th>49</th>\n",
       "      <td>76377</td>\n",
       "      <td>59853.945173</td>\n",
       "    </tr>\n",
       "  </tbody>\n",
       "</table>\n",
       "</div>"
      ],
      "text/plain": [
       "       Generated_Values  Predicted Values\n",
       "index                                    \n",
       "0                  1045       1141.338217\n",
       "1                  1165       2296.340321\n",
       "2                  1295       2392.590496\n",
       "3                  1435       2488.840671\n",
       "4                  1557       2315.590356\n",
       "5                  1675       2277.090286\n",
       "6                  1800       2344.465408\n",
       "7                  1945       2536.965759\n",
       "8                  2065       2296.340321\n",
       "9                  2340       3788.218038\n",
       "10                 2600       3643.842775\n",
       "11                 2852       3566.842635\n",
       "12                 3110       3624.592740\n",
       "13                 3357       3518.717547\n",
       "14                 3620       3672.717828\n",
       "15                 3865       3499.467512\n",
       "16                 4285       5183.845581\n",
       "17                 4665       4798.844879\n",
       "18                 5192       6213.722457\n",
       "19                 5710       6127.097299\n",
       "20                 6209       5944.221966\n",
       "21                 6730       6155.972352\n",
       "22                 7222       5876.846843\n",
       "23                 7905       7715.225192\n",
       "24                 8530       7156.974175\n",
       "25                 9477      10256.229821\n",
       "26                10375       9784.603962\n",
       "27                11401      11016.606206\n",
       "28                12440      11141.731434\n",
       "29                13431      10679.730593\n",
       "30                14635      12729.859327\n",
       "31                15752      11892.482802\n",
       "32                17382      16830.116797\n",
       "33                18905      15800.239921\n",
       "34                20878      20131.497811\n",
       "35                22815      19784.997180\n",
       "36                24832      20554.998582\n",
       "37                27075      22730.252545\n",
       "38                29183      21430.875178\n",
       "39                32017      28418.637907\n",
       "40                34657      26551.384506\n",
       "41                38260      35820.276391\n",
       "42                41720      34443.898883\n",
       "43                45710      39545.158176\n",
       "44                49890      41373.911508\n",
       "45                54015      40844.535543\n",
       "46                59092      50007.552236\n",
       "47                63840      46840.921467\n",
       "48                70277      63097.576082\n",
       "49                76377      59853.945173"
      ]
     },
     "execution_count": 22,
     "metadata": {},
     "output_type": "execute_result"
    }
   ],
   "source": [
    "X_train = train[\"Value Difference\"].iloc[0:50].to_frame()\n",
    "X_test = test[\"Generated Difference\"].iloc[0:50].to_frame()\n",
    "y_train = train[\"Values\"].iloc[0:50].to_frame()\n",
    "y_test = test[\"Generated_Values\"].iloc[0:50].to_frame()\n",
    "model = LinearRegression()\n",
    "model.fit(X_train, y_train)\n",
    "predictions = model.predict(X_test)\n",
    "Results = y_test\n",
    "Results[\"Predicted Values\"] = predictions\n",
    "Results"
   ]
  },
  {
   "cell_type": "code",
   "execution_count": 23,
   "id": "0dd10795",
   "metadata": {},
   "outputs": [
    {
     "data": {
      "text/plain": [
       "array([<AxesSubplot:xlabel='index'>, <AxesSubplot:xlabel='index'>],\n",
       "      dtype=object)"
      ]
     },
     "execution_count": 23,
     "metadata": {},
     "output_type": "execute_result"
    },
    {
     "data": {
      "image/png": "[encoded data removed]",
      "text/plain": [
       "<Figure size 432x288 with 2 Axes>"
      ]
     },
     "metadata": {
      "needs_background": "light"
     },
     "output_type": "display_data"
    }
   ],
   "source": [
    "Results[:2000].plot(subplots=True)"
   ]
  },
  {
   "cell_type": "code",
   "execution_count": 24,
   "id": "26983e96",
   "metadata": {},
   "outputs": [
    {
     "data": {
      "text/html": [
       "<div>\n",
       "<style scoped>\n",
       "    .dataframe tbody tr th:only-of-type {\n",
       "        vertical-align: middle;\n",
       "    }\n",
       "\n",
       "    .dataframe tbody tr th {\n",
       "        vertical-align: top;\n",
       "    }\n",
       "\n",
       "    .dataframe thead th {\n",
       "        text-align: right;\n",
       "    }\n",
       "</style>\n",
       "<table border=\"1\" class=\"dataframe\">\n",
       "  <thead>\n",
       "    <tr style=\"text-align: right;\">\n",
       "      <th></th>\n",
       "      <th>Generated_Values</th>\n",
       "      <th>Predicted Values</th>\n",
       "    </tr>\n",
       "    <tr>\n",
       "      <th>index</th>\n",
       "      <th></th>\n",
       "      <th></th>\n",
       "    </tr>\n",
       "  </thead>\n",
       "  <tbody>\n",
       "    <tr>\n",
       "      <th>0</th>\n",
       "      <td>1045</td>\n",
       "      <td>1.003366e+04</td>\n",
       "    </tr>\n",
       "    <tr>\n",
       "      <th>1</th>\n",
       "      <td>1165</td>\n",
       "      <td>1.140920e+04</td>\n",
       "    </tr>\n",
       "    <tr>\n",
       "      <th>2</th>\n",
       "      <td>1295</td>\n",
       "      <td>1.152383e+04</td>\n",
       "    </tr>\n",
       "    <tr>\n",
       "      <th>3</th>\n",
       "      <td>1435</td>\n",
       "      <td>1.163846e+04</td>\n",
       "    </tr>\n",
       "    <tr>\n",
       "      <th>4</th>\n",
       "      <td>1557</td>\n",
       "      <td>1.143213e+04</td>\n",
       "    </tr>\n",
       "    <tr>\n",
       "      <th>...</th>\n",
       "      <td>...</td>\n",
       "      <td>...</td>\n",
       "    </tr>\n",
       "    <tr>\n",
       "      <th>95</th>\n",
       "      <td>4203842</td>\n",
       "      <td>3.803956e+06</td>\n",
       "    </tr>\n",
       "    <tr>\n",
       "      <th>96</th>\n",
       "      <td>4608735</td>\n",
       "      <td>4.651268e+06</td>\n",
       "    </tr>\n",
       "    <tr>\n",
       "      <th>97</th>\n",
       "      <td>5012351</td>\n",
       "      <td>4.636630e+06</td>\n",
       "    </tr>\n",
       "    <tr>\n",
       "      <th>98</th>\n",
       "      <td>5481219</td>\n",
       "      <td>5.384605e+06</td>\n",
       "    </tr>\n",
       "    <tr>\n",
       "      <th>99</th>\n",
       "      <td>5980101</td>\n",
       "      <td>5.728651e+06</td>\n",
       "    </tr>\n",
       "  </tbody>\n",
       "</table>\n",
       "<p>100 rows × 2 columns</p>\n",
       "</div>"
      ],
      "text/plain": [
       "       Generated_Values  Predicted Values\n",
       "index                                    \n",
       "0                  1045      1.003366e+04\n",
       "1                  1165      1.140920e+04\n",
       "2                  1295      1.152383e+04\n",
       "3                  1435      1.163846e+04\n",
       "4                  1557      1.143213e+04\n",
       "...                 ...               ...\n",
       "95              4203842      3.803956e+06\n",
       "96              4608735      4.651268e+06\n",
       "97              5012351      4.636630e+06\n",
       "98              5481219      5.384605e+06\n",
       "99              5980101      5.728651e+06\n",
       "\n",
       "[100 rows x 2 columns]"
      ]
     },
     "execution_count": 24,
     "metadata": {},
     "output_type": "execute_result"
    }
   ],
   "source": [
    "X_train = train[\"Value Difference\"].iloc[0:100].to_frame()\n",
    "X_test = test[\"Generated Difference\"].iloc[0:100].to_frame()\n",
    "y_train = train[\"Values\"].iloc[0:100].to_frame()\n",
    "y_test = test[\"Generated_Values\"].iloc[0:100].to_frame()\n",
    "model = LinearRegression()\n",
    "model.fit(X_train, y_train)\n",
    "predictions = model.predict(X_test)\n",
    "Results = y_test\n",
    "Results[\"Predicted Values\"] = predictions\n",
    "Results"
   ]
  },
  {
   "cell_type": "code",
   "execution_count": 25,
   "id": "32ccba5b",
   "metadata": {},
   "outputs": [
    {
     "data": {
      "text/plain": [
       "<AxesSubplot:xlabel='index'>"
      ]
     },
     "execution_count": 25,
     "metadata": {},
     "output_type": "execute_result"
    },
    {
     "data": {
      "image/png": "[encoded data removed]",
      "text/plain": [
       "<Figure size 432x288 with 2 Axes>"
      ]
     },
     "metadata": {
      "needs_background": "light"
     },
     "output_type": "display_data"
    }
   ],
   "source": [
    "Results[:2000].plot(subplots=True)\n",
    "Results[\"Difference\"] = Results.apply(lambda x: x[\"Generated_Values\"] - x[\"Predicted Values\"], axis =1) \n",
    "Results[\"Difference\"].plot()"
   ]
  },
  {
   "cell_type": "markdown",
   "id": "d41f9beb",
   "metadata": {},
   "source": [
    "#### Naive Bayes Model"
   ]
  },
  {
   "cell_type": "code",
   "execution_count": 26,
   "id": "15414181",
   "metadata": {},
   "outputs": [],
   "source": [
    "from sklearn.model_selection import train_test_split\n",
    "from sklearn.naive_bayes import GaussianNB"
   ]
  },
  {
   "cell_type": "code",
   "execution_count": 27,
   "id": "21fcbfb9",
   "metadata": {},
   "outputs": [],
   "source": [
    "X_train = train[\"Value Difference\"].iloc[0:100].values.reshape(-1,1)\n",
    "X_test = test[\"Generated Difference\"].iloc[0:100].values.reshape(-1,1)\n",
    "y_train = train[\"Values\"].iloc[0:100].values.reshape(-1,1)\n",
    "y_test = test[\"Generated_Values\"].iloc[0:100].values.reshape(-1,1)"
   ]
  },
  {
   "cell_type": "code",
   "execution_count": 28,
   "id": "d54ab39f",
   "metadata": {},
   "outputs": [],
   "source": [
    "#y_test = y_test.reshape(80)\n",
    "#X_test = X_test.reshape(80)\n",
    "#y_train = y_train.reshape(2500)\n",
    "#y_test = y_test.reshape(80)\n",
    "X_train=X_train.astype('int')\n",
    "X_test = X_test.astype(\"int\")\n",
    "y_train = y_train.astype(\"int\")\n",
    "y_test = y_test.astype(\"int\")"
   ]
  },
  {
   "cell_type": "code",
   "execution_count": 29,
   "id": "37236159",
   "metadata": {},
   "outputs": [],
   "source": [
    "gnb = GaussianNB()"
   ]
  },
  {
   "cell_type": "code",
   "execution_count": 30,
   "id": "af682389",
   "metadata": {},
   "outputs": [
    {
     "name": "stderr",
     "output_type": "stream",
     "text": [
      "C:\\Users\\PC\\anaconda3\\envs\\pyvizend\\lib\\site-packages\\sklearn\\utils\\validation.py:63: DataConversionWarning: A column-vector y was passed when a 1d array was expected. Please change the shape of y to (n_samples, ), for example using ravel().\n",
      "  return f(*args, **kwargs)\n"
     ]
    }
   ],
   "source": [
    "y_pred = gnb.fit(X_train, y_train).predict(X_test)"
   ]
  },
  {
   "cell_type": "code",
   "execution_count": 31,
   "id": "8daee699",
   "metadata": {},
   "outputs": [],
   "source": [
    "Results_NB = pd.DataFrame(y_pred)"
   ]
  },
  {
   "cell_type": "code",
   "execution_count": 32,
   "id": "5740bf59",
   "metadata": {},
   "outputs": [
    {
     "data": {
      "text/plain": [
       "<AxesSubplot:>"
      ]
     },
     "execution_count": 32,
     "metadata": {},
     "output_type": "execute_result"
    },
    {
     "data": {
      "image/png": "[encoded data removed]",
      "text/plain": [
       "<Figure size 432x288 with 3 Axes>"
      ]
     },
     "metadata": {
      "needs_background": "light"
     },
     "output_type": "display_data"
    },
    {
     "data": {
      "image/png": "[encoded data removed]",
      "text/plain": [
       "<Figure size 432x288 with 1 Axes>"
      ]
     },
     "metadata": {
      "needs_background": "light"
     },
     "output_type": "display_data"
    }
   ],
   "source": [
    "Results[:2000].plot(subplots=True)\n",
    "Results[\"Difference\"] = Results.apply(lambda x: x[\"Generated_Values\"] - x[\"Predicted Values\"], axis =1) \n",
    "Results[\"Difference\"].plot()\n",
    "Results_NB.plot()"
   ]
  },
  {
   "cell_type": "markdown",
   "id": "8985517b",
   "metadata": {},
   "source": [
    "#### Tensor Flow"
   ]
  },
  {
   "cell_type": "code",
   "execution_count": 33,
   "id": "163a0e95",
   "metadata": {},
   "outputs": [],
   "source": [
    "def window_data(df, window, feature_col_number, target_col_number):\n",
    "    \"\"\"\n",
    "    This function accepts the column number for the features (X) and the target (y).\n",
    "    It chunks the data up with a rolling window of Xt - window to predict Xt.\n",
    "    It returns two numpy arrays of X and y.\n",
    "    \"\"\"\n",
    "    X = []\n",
    "    y = []\n",
    "    for i in range(len(df) - window):\n",
    "        features = df.iloc[i : (i + window), feature_col_number]\n",
    "        target = df.iloc[(i + window), target_col_number]\n",
    "        X.append(features)\n",
    "        y.append(target)\n",
    "    return np.array(X), np.array(y).reshape(-1, 1)"
   ]
  },
  {
   "cell_type": "code",
   "execution_count": 34,
   "id": "b4d98689",
   "metadata": {},
   "outputs": [],
   "source": [
    "train = train.iloc[0:150]"
   ]
  },
  {
   "cell_type": "code",
   "execution_count": 35,
   "id": "062cb93f",
   "metadata": {},
   "outputs": [
    {
     "name": "stdout",
     "output_type": "stream",
     "text": [
      "X sample values:\n",
      "[[300]\n",
      " [415]\n",
      " [467]\n",
      " [514]\n",
      " [563]] \n",
      "\n",
      "y sample values:\n",
      "[[415]\n",
      " [467]\n",
      " [514]\n",
      " [563]\n",
      " [600]]\n"
     ]
    }
   ],
   "source": [
    "window_size = 1\n",
    "\n",
    "feature_column = 0\n",
    "target_column = 0\n",
    "X, y = window_data(train, window_size, feature_column, target_column)\n",
    "print (f\"X sample values:\\n{X[:5]} \\n\")\n",
    "print (f\"y sample values:\\n{y[:5]}\")"
   ]
  },
  {
   "cell_type": "code",
   "execution_count": 36,
   "id": "d7ea4c6c",
   "metadata": {},
   "outputs": [],
   "source": [
    "split = int(0.5 * len(X))\n",
    "X_train = X[: split]\n",
    "X_test = X[split:]\n",
    "y_train = y[: split]\n",
    "y_test = y[split:]"
   ]
  },
  {
   "cell_type": "code",
   "execution_count": 37,
   "id": "6beab6d3",
   "metadata": {},
   "outputs": [],
   "source": [
    "scaler = MinMaxScaler()\n",
    "scaler.fit(X)\n",
    "X_train = scaler.transform(X_train)\n",
    "X_test = scaler.transform(X_test)\n",
    "scaler.fit(y)\n",
    "y_train = scaler.transform(y_train)\n",
    "y_test = scaler.transform(y_test)\n"
   ]
  },
  {
   "cell_type": "code",
   "execution_count": 38,
   "id": "a6d53e72",
   "metadata": {},
   "outputs": [
    {
     "name": "stdout",
     "output_type": "stream",
     "text": [
      "X_train sample values:\n",
      "[[[0.00000000e+00]]\n",
      "\n",
      " [[7.81057590e-07]]\n",
      "\n",
      " [[1.13423146e-06]]\n",
      "\n",
      " [[1.45344630e-06]]\n",
      "\n",
      " [[1.78624475e-06]]] \n",
      "\n",
      "X_test sample values:\n",
      "[[[0.00159783]]\n",
      "\n",
      " [[0.00172518]]\n",
      "\n",
      " [[0.00188223]]\n",
      "\n",
      " [[0.00206468]]\n",
      "\n",
      " [[0.00220941]]]\n"
     ]
    }
   ],
   "source": [
    "X_train = X_train.reshape((X_train.shape[0], X_train.shape[1], 1))\n",
    "X_test = X_test.reshape((X_test.shape[0], X_test.shape[1], 1))\n",
    "print (f\"X_train sample values:\\n{X_train[:5]} \\n\")\n",
    "print (f\"X_test sample values:\\n{X_test[:5]}\")"
   ]
  },
  {
   "cell_type": "code",
   "execution_count": 39,
   "id": "1e4c4077",
   "metadata": {},
   "outputs": [],
   "source": [
    "model = Sequential()\n",
    "\n",
    "number_units = 5\n",
    "dropout_fraction = 0.2\n",
    "\n",
    "# Layer 1\n",
    "model.add(LSTM(\n",
    "    units=number_units,\n",
    "    return_sequences=True,\n",
    "    input_shape=(X_train.shape[1], 1))\n",
    "    )\n",
    "model.add(Dropout(dropout_fraction))\n",
    "\n",
    "# Layer 2\n",
    "model.add(LSTM(units=number_units, return_sequences=True))\n",
    "model.add(Dropout(dropout_fraction))\n",
    "\n",
    "# Layer 3\n",
    "model.add(LSTM(units=number_units))\n",
    "model.add(Dropout(dropout_fraction))\n",
    "\n",
    "# Output layer\n",
    "model.add(Dense(1))"
   ]
  },
  {
   "cell_type": "code",
   "execution_count": 40,
   "id": "ce83b7b3",
   "metadata": {},
   "outputs": [],
   "source": [
    "model.compile(optimizer=\"adam\", loss=\"mean_squared_error\")"
   ]
  },
  {
   "cell_type": "code",
   "execution_count": 41,
   "id": "cab7c942",
   "metadata": {},
   "outputs": [
    {
     "name": "stdout",
     "output_type": "stream",
     "text": [
      "Model: \"sequential\"\n",
      "_________________________________________________________________\n",
      " Layer (type)                Output Shape              Param #   \n",
      "=================================================================\n",
      " lstm (LSTM)                 (None, 1, 5)              140       \n",
      "                                                                 \n",
      " dropout (Dropout)           (None, 1, 5)              0         \n",
      "                                                                 \n",
      " lstm_1 (LSTM)               (None, 1, 5)              220       \n",
      "                                                                 \n",
      " dropout_1 (Dropout)         (None, 1, 5)              0         \n",
      "                                                                 \n",
      " lstm_2 (LSTM)               (None, 5)                 220       \n",
      "                                                                 \n",
      " dropout_2 (Dropout)         (None, 5)                 0         \n",
      "                                                                 \n",
      " dense (Dense)               (None, 1)                 6         \n",
      "                                                                 \n",
      "=================================================================\n",
      "Total params: 586\n",
      "Trainable params: 586\n",
      "Non-trainable params: 0\n",
      "_________________________________________________________________\n"
     ]
    }
   ],
   "source": [
    "model.summary()"
   ]
  },
  {
   "cell_type": "code",
   "execution_count": 42,
   "id": "526c624f",
   "metadata": {},
   "outputs": [
    {
     "name": "stdout",
     "output_type": "stream",
     "text": [
      "Epoch 1/10\n",
      "74/74 [==============================] - 3s 2ms/step - loss: 1.7099e-07\n",
      "Epoch 2/10\n",
      "74/74 [==============================] - 0s 1ms/step - loss: 2.1301e-07\n",
      "Epoch 3/10\n",
      "74/74 [==============================] - 0s 2ms/step - loss: 3.6621e-07\n",
      "Epoch 4/10\n",
      "74/74 [==============================] - 0s 2ms/step - loss: 2.5938e-07\n",
      "Epoch 5/10\n",
      "74/74 [==============================] - 0s 2ms/step - loss: 2.3347e-07\n",
      "Epoch 6/10\n",
      "74/74 [==============================] - 0s 2ms/step - loss: 2.1983e-07\n",
      "Epoch 7/10\n",
      "74/74 [==============================] - 0s 2ms/step - loss: 2.0941e-07\n",
      "Epoch 8/10\n",
      "74/74 [==============================] - 0s 2ms/step - loss: 1.9133e-07\n",
      "Epoch 9/10\n",
      "74/74 [==============================] - 0s 2ms/step - loss: 2.2232e-07\n",
      "Epoch 10/10\n",
      "74/74 [==============================] - 0s 1ms/step - loss: 2.3511e-07\n"
     ]
    },
    {
     "data": {
      "text/plain": [
       "<keras.callbacks.History at 0x298eea9adc8>"
      ]
     },
     "execution_count": 42,
     "metadata": {},
     "output_type": "execute_result"
    }
   ],
   "source": [
    "model.fit(X_train, y_train, epochs=10, shuffle=False, batch_size=1, verbose=1)"
   ]
  },
  {
   "cell_type": "code",
   "execution_count": 43,
   "id": "8ae9ba5b",
   "metadata": {},
   "outputs": [
    {
     "name": "stdout",
     "output_type": "stream",
     "text": [
      "3/3 [==============================] - 1s 1ms/step - loss: 0.0841\n"
     ]
    },
    {
     "data": {
      "text/plain": [
       "0.08405999839305878"
      ]
     },
     "execution_count": 43,
     "metadata": {},
     "output_type": "execute_result"
    }
   ],
   "source": [
    "model.evaluate(X_test, y_test)"
   ]
  },
  {
   "cell_type": "code",
   "execution_count": 44,
   "id": "b5d3270a",
   "metadata": {},
   "outputs": [],
   "source": [
    "predicted = model.predict(X_test)"
   ]
  },
  {
   "cell_type": "code",
   "execution_count": 45,
   "id": "0a5c8db6",
   "metadata": {},
   "outputs": [],
   "source": [
    "predicted_vals = scaler.inverse_transform(predicted)\n",
    "real_vals = scaler.inverse_transform(y_test.reshape(-1, 1))"
   ]
  },
  {
   "cell_type": "code",
   "execution_count": 46,
   "id": "81686e5c",
   "metadata": {},
   "outputs": [
    {
     "data": {
      "text/html": [
       "<div>\n",
       "<style scoped>\n",
       "    .dataframe tbody tr th:only-of-type {\n",
       "        vertical-align: middle;\n",
       "    }\n",
       "\n",
       "    .dataframe tbody tr th {\n",
       "        vertical-align: top;\n",
       "    }\n",
       "\n",
       "    .dataframe thead th {\n",
       "        text-align: right;\n",
       "    }\n",
       "</style>\n",
       "<table border=\"1\" class=\"dataframe\">\n",
       "  <thead>\n",
       "    <tr style=\"text-align: right;\">\n",
       "      <th></th>\n",
       "      <th>Real</th>\n",
       "      <th>Predicted</th>\n",
       "    </tr>\n",
       "    <tr>\n",
       "      <th>index</th>\n",
       "      <th></th>\n",
       "      <th></th>\n",
       "    </tr>\n",
       "  </thead>\n",
       "  <tbody>\n",
       "    <tr>\n",
       "      <th>75</th>\n",
       "      <td>254309.0</td>\n",
       "      <td>219626.703125</td>\n",
       "    </tr>\n",
       "    <tr>\n",
       "      <th>76</th>\n",
       "      <td>277432.0</td>\n",
       "      <td>219570.687500</td>\n",
       "    </tr>\n",
       "    <tr>\n",
       "      <th>77</th>\n",
       "      <td>304296.0</td>\n",
       "      <td>219501.578125</td>\n",
       "    </tr>\n",
       "    <tr>\n",
       "      <th>78</th>\n",
       "      <td>325606.0</td>\n",
       "      <td>219421.328125</td>\n",
       "    </tr>\n",
       "    <tr>\n",
       "      <th>79</th>\n",
       "      <td>363101.0</td>\n",
       "      <td>219357.640625</td>\n",
       "    </tr>\n",
       "  </tbody>\n",
       "</table>\n",
       "</div>"
      ],
      "text/plain": [
       "           Real      Predicted\n",
       "index                         \n",
       "75     254309.0  219626.703125\n",
       "76     277432.0  219570.687500\n",
       "77     304296.0  219501.578125\n",
       "78     325606.0  219421.328125\n",
       "79     363101.0  219357.640625"
      ]
     },
     "execution_count": 46,
     "metadata": {},
     "output_type": "execute_result"
    }
   ],
   "source": [
    "fish = pd.DataFrame({\n",
    "    \"Real\": real_vals.ravel(),\n",
    "    \"Predicted\": predicted_vals.ravel()\n",
    "    }, index = train.index[-len(real_vals): ])\n",
    "fish.head()"
   ]
  },
  {
   "cell_type": "code",
   "execution_count": 47,
   "id": "4f34e643",
   "metadata": {},
   "outputs": [
    {
     "data": {
      "text/plain": [
       "<AxesSubplot:xlabel='index'>"
      ]
     },
     "execution_count": 47,
     "metadata": {},
     "output_type": "execute_result"
    },
    {
     "data": {
      "image/png": "[encoded data removed]",
      "text/plain": [
       "<Figure size 432x288 with 1 Axes>"
      ]
     },
     "metadata": {
      "needs_background": "light"
     },
     "output_type": "display_data"
    }
   ],
   "source": [
    "fish.plot()"
   ]
  },
  {
   "cell_type": "code",
   "execution_count": 48,
   "id": "8be2e49b",
   "metadata": {},
   "outputs": [
    {
     "name": "stdout",
     "output_type": "stream",
     "text": [
      "X sample values:\n",
      "[[300]\n",
      " [415]\n",
      " [467]\n",
      " [514]\n",
      " [563]] \n",
      "\n",
      "y sample values:\n",
      "[[415]\n",
      " [467]\n",
      " [514]\n",
      " [563]\n",
      " [600]]\n"
     ]
    }
   ],
   "source": [
    "window_size = 1\n",
    "\n",
    "feature_column = 0\n",
    "target_column = 0\n",
    "X, y = window_data(train, window_size, feature_column, target_column)\n",
    "print (f\"X sample values:\\n{X[:5]} \\n\")\n",
    "print (f\"y sample values:\\n{y[:5]}\")"
   ]
  },
  {
   "cell_type": "code",
   "execution_count": 49,
   "id": "bb43d689",
   "metadata": {},
   "outputs": [],
   "source": [
    "X_train = X\n",
    "X_test = test[\"Generated_Values\"].values.reshape(-1,1)\n",
    "y_train = y\n",
    "y_test = test[\"Generated_Values\"].values.reshape(-1,1)"
   ]
  },
  {
   "cell_type": "code",
   "execution_count": 50,
   "id": "ee4438a9",
   "metadata": {},
   "outputs": [],
   "source": [
    "scaler = MinMaxScaler()\n",
    "scaler.fit(X)\n",
    "X_train = scaler.transform(X_train)\n",
    "X_test = scaler.transform(X_test)\n",
    "scaler.fit(y)\n",
    "y_train = scaler.transform(y_train)\n",
    "y_test = scaler.transform(y_test)\n"
   ]
  },
  {
   "cell_type": "code",
   "execution_count": 51,
   "id": "458ce461",
   "metadata": {},
   "outputs": [
    {
     "name": "stdout",
     "output_type": "stream",
     "text": [
      "X_train sample values:\n",
      "[[[0.00000000e+00]]\n",
      "\n",
      " [[7.81057590e-07]]\n",
      "\n",
      " [[1.13423146e-06]]\n",
      "\n",
      " [[1.45344630e-06]]\n",
      "\n",
      " [[1.78624475e-06]]] \n",
      "\n",
      "X_test sample values:\n",
      "[[[5.05989482e-06]]\n",
      "\n",
      " [[5.87491144e-06]]\n",
      "\n",
      " [[6.75784611e-06]]\n",
      "\n",
      " [[7.70869883e-06]]\n",
      "\n",
      " [[8.53729905e-06]]]\n"
     ]
    }
   ],
   "source": [
    "X_train = X_train.reshape((X_train.shape[0], X_train.shape[1], 1))\n",
    "X_test = X_test.reshape((X_test.shape[0], X_test.shape[1], 1))\n",
    "print (f\"X_train sample values:\\n{X_train[:5]} \\n\")\n",
    "print (f\"X_test sample values:\\n{X_test[:5]}\")"
   ]
  },
  {
   "cell_type": "code",
   "execution_count": 52,
   "id": "bef83bdc",
   "metadata": {},
   "outputs": [],
   "source": [
    "model = Sequential()\n",
    "\n",
    "number_units = 5\n",
    "dropout_fraction = 0.2\n",
    "\n",
    "# Layer 1\n",
    "model.add(LSTM(\n",
    "    units=number_units,\n",
    "    return_sequences=True,\n",
    "    input_shape=(X_train.shape[1], 1))\n",
    "    )\n",
    "model.add(Dropout(dropout_fraction))\n",
    "\n",
    "# Layer 2\n",
    "model.add(LSTM(units=number_units, return_sequences=True))\n",
    "model.add(Dropout(dropout_fraction))\n",
    "\n",
    "# Layer 3\n",
    "model.add(LSTM(units=number_units))\n",
    "model.add(Dropout(dropout_fraction))\n",
    "\n",
    "# Output layer\n",
    "model.add(Dense(1))"
   ]
  },
  {
   "cell_type": "code",
   "execution_count": 53,
   "id": "1b7e9a95",
   "metadata": {},
   "outputs": [],
   "source": [
    "model.compile(optimizer=\"adam\", loss=\"mean_squared_error\")"
   ]
  },
  {
   "cell_type": "code",
   "execution_count": 54,
   "id": "4013cba6",
   "metadata": {},
   "outputs": [
    {
     "name": "stdout",
     "output_type": "stream",
     "text": [
      "Model: \"sequential_1\"\n",
      "_________________________________________________________________\n",
      " Layer (type)                Output Shape              Param #   \n",
      "=================================================================\n",
      " lstm_3 (LSTM)               (None, 1, 5)              140       \n",
      "                                                                 \n",
      " dropout_3 (Dropout)         (None, 1, 5)              0         \n",
      "                                                                 \n",
      " lstm_4 (LSTM)               (None, 1, 5)              220       \n",
      "                                                                 \n",
      " dropout_4 (Dropout)         (None, 1, 5)              0         \n",
      "                                                                 \n",
      " lstm_5 (LSTM)               (None, 5)                 220       \n",
      "                                                                 \n",
      " dropout_5 (Dropout)         (None, 5)                 0         \n",
      "                                                                 \n",
      " dense_1 (Dense)             (None, 1)                 6         \n",
      "                                                                 \n",
      "=================================================================\n",
      "Total params: 586\n",
      "Trainable params: 586\n",
      "Non-trainable params: 0\n",
      "_________________________________________________________________\n"
     ]
    }
   ],
   "source": [
    "model.summary()"
   ]
  },
  {
   "cell_type": "code",
   "execution_count": 55,
   "id": "8f76f495",
   "metadata": {},
   "outputs": [
    {
     "name": "stdout",
     "output_type": "stream",
     "text": [
      "Epoch 1/10\n",
      "149/149 [==============================] - 3s 1ms/step - loss: 0.0219\n",
      "Epoch 2/10\n",
      "149/149 [==============================] - 0s 2ms/step - loss: 0.0480\n",
      "Epoch 3/10\n",
      "149/149 [==============================] - 0s 1ms/step - loss: 0.0398\n",
      "Epoch 4/10\n",
      "149/149 [==============================] - 0s 2ms/step - loss: 0.0376\n",
      "Epoch 5/10\n",
      "149/149 [==============================] - 0s 1ms/step - loss: 0.0380\n",
      "Epoch 6/10\n",
      "149/149 [==============================] - 0s 1ms/step - loss: 0.0364\n",
      "Epoch 7/10\n",
      "149/149 [==============================] - 0s 1ms/step - loss: 0.0328\n",
      "Epoch 8/10\n",
      "149/149 [==============================] - 0s 1ms/step - loss: 0.0276\n",
      "Epoch 9/10\n",
      "149/149 [==============================] - 0s 2ms/step - loss: 0.0186\n",
      "Epoch 10/10\n",
      "149/149 [==============================] - 0s 1ms/step - loss: 0.0130\n"
     ]
    },
    {
     "data": {
      "text/plain": [
       "<keras.callbacks.History at 0x298f786c708>"
      ]
     },
     "execution_count": 55,
     "metadata": {},
     "output_type": "execute_result"
    }
   ],
   "source": [
    "model.fit(X_train, y_train, epochs=10, shuffle=False, batch_size=1, verbose=1)"
   ]
  },
  {
   "cell_type": "code",
   "execution_count": 56,
   "id": "e7ff106b",
   "metadata": {},
   "outputs": [
    {
     "name": "stdout",
     "output_type": "stream",
     "text": [
      "4/4 [==============================] - 1s 2ms/step - loss: 0.0059\n"
     ]
    },
    {
     "data": {
      "text/plain": [
       "0.005869209300726652"
      ]
     },
     "execution_count": 56,
     "metadata": {},
     "output_type": "execute_result"
    }
   ],
   "source": [
    "model.evaluate(X_test, y_test)"
   ]
  },
  {
   "cell_type": "code",
   "execution_count": 57,
   "id": "d43bdadf",
   "metadata": {},
   "outputs": [],
   "source": [
    "predicted = model.predict(X_test)"
   ]
  },
  {
   "cell_type": "code",
   "execution_count": 58,
   "id": "c1ed7b45",
   "metadata": {},
   "outputs": [],
   "source": [
    "predicted_values = scaler.inverse_transform(predicted)\n",
    "real_values = scaler.inverse_transform(y_test.reshape(-1, 1))"
   ]
  },
  {
   "cell_type": "code",
   "execution_count": 59,
   "id": "18dc4a33",
   "metadata": {},
   "outputs": [
    {
     "data": {
      "text/html": [
       "<div>\n",
       "<style scoped>\n",
       "    .dataframe tbody tr th:only-of-type {\n",
       "        vertical-align: middle;\n",
       "    }\n",
       "\n",
       "    .dataframe tbody tr th {\n",
       "        vertical-align: top;\n",
       "    }\n",
       "\n",
       "    .dataframe thead th {\n",
       "        text-align: right;\n",
       "    }\n",
       "</style>\n",
       "<table border=\"1\" class=\"dataframe\">\n",
       "  <thead>\n",
       "    <tr style=\"text-align: right;\">\n",
       "      <th></th>\n",
       "      <th>Real</th>\n",
       "      <th>Predicted</th>\n",
       "    </tr>\n",
       "  </thead>\n",
       "  <tbody>\n",
       "    <tr>\n",
       "      <th>0</th>\n",
       "      <td>1045.0</td>\n",
       "      <td>13458619.0</td>\n",
       "    </tr>\n",
       "    <tr>\n",
       "      <th>1</th>\n",
       "      <td>1165.0</td>\n",
       "      <td>13458674.0</td>\n",
       "    </tr>\n",
       "    <tr>\n",
       "      <th>2</th>\n",
       "      <td>1295.0</td>\n",
       "      <td>13458729.0</td>\n",
       "    </tr>\n",
       "    <tr>\n",
       "      <th>3</th>\n",
       "      <td>1435.0</td>\n",
       "      <td>13458792.0</td>\n",
       "    </tr>\n",
       "    <tr>\n",
       "      <th>4</th>\n",
       "      <td>1557.0</td>\n",
       "      <td>13458846.0</td>\n",
       "    </tr>\n",
       "  </tbody>\n",
       "</table>\n",
       "</div>"
      ],
      "text/plain": [
       "     Real   Predicted\n",
       "0  1045.0  13458619.0\n",
       "1  1165.0  13458674.0\n",
       "2  1295.0  13458729.0\n",
       "3  1435.0  13458792.0\n",
       "4  1557.0  13458846.0"
      ]
     },
     "execution_count": 59,
     "metadata": {},
     "output_type": "execute_result"
    }
   ],
   "source": [
    "values = pd.DataFrame({\n",
    "    \"Real\": real_values.ravel(),\n",
    "    \"Predicted\": predicted_values.ravel()\n",
    "    })\n",
    "values.head()"
   ]
  },
  {
   "cell_type": "code",
   "execution_count": 60,
   "id": "c9616bf0",
   "metadata": {},
   "outputs": [
    {
     "data": {
      "text/plain": [
       "<AxesSubplot:>"
      ]
     },
     "execution_count": 60,
     "metadata": {},
     "output_type": "execute_result"
    },
    {
     "data": {
      "image/png": "[encoded data removed]",
      "text/plain": [
       "<Figure size 432x288 with 1 Axes>"
      ]
     },
     "metadata": {
      "needs_background": "light"
     },
     "output_type": "display_data"
    }
   ],
   "source": [
    "values.plot()"
   ]
  },
  {
   "cell_type": "code",
   "execution_count": null,
   "id": "436f2631",
   "metadata": {},
   "outputs": [],
   "source": []
  }
 ],
 "metadata": {
  "kernelspec": {
   "display_name": "Python 3 (ipykernel)",
   "language": "python",
   "name": "python3"
  },
  "language_info": {
   "codemirror_mode": {
    "name": "ipython",
    "version": 3
   },
   "file_extension": ".py",
   "mimetype": "text/x-python",
   "name": "python",
   "nbconvert_exporter": "python",
   "pygments_lexer": "ipython3",
   "version": "3.7.11"
  }
 },
 "nbformat": 4,
 "nbformat_minor": 5
}
